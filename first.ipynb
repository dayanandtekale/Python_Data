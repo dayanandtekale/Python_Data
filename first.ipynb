{
  "nbformat": 4,
  "nbformat_minor": 0,
  "metadata": {
    "colab": {
      "name": "first.ipynb",
      "provenance": [],
      "collapsed_sections": [],
      "authorship_tag": "ABX9TyP/XUJzEWxAM+Vz1TdLXxjC",
      "include_colab_link": true
    },
    "kernelspec": {
      "name": "python3",
      "display_name": "Python 3"
    },
    "language_info": {
      "name": "python"
    }
  },
  "cells": [
    {
      "cell_type": "markdown",
      "metadata": {
        "id": "view-in-github",
        "colab_type": "text"
      },
      "source": [
        "<a href=\"https://colab.research.google.com/github/dayanandtekale/Training2/blob/main/first.ipynb\" target=\"_parent\"><img src=\"https://colab.research.google.com/assets/colab-badge.svg\" alt=\"Open In Colab\"/></a>"
      ]
    },
    {
      "cell_type": "code",
      "metadata": {
        "colab": {
          "base_uri": "https://localhost:8080/"
        },
        "id": "6vb_2p-TYQpv",
        "outputId": "9adf1135-f98a-45b0-d158-aedf4a44bb3a"
      },
      "source": [
        "print(\"Hello,Welcome to the PWC\")"
      ],
      "execution_count": null,
      "outputs": [
        {
          "output_type": "stream",
          "text": [
            "Hello,Welcome to the PWC\n"
          ],
          "name": "stdout"
        }
      ]
    },
    {
      "cell_type": "code",
      "metadata": {
        "colab": {
          "base_uri": "https://localhost:8080/"
        },
        "id": "ZdTek75qYiNx",
        "outputId": "d1e9bb14-b021-46e8-f679-6e76fea38ea2"
      },
      "source": [
        "a=2\n",
        "b=3\n",
        "print(a+b)"
      ],
      "execution_count": null,
      "outputs": [
        {
          "output_type": "execute_result",
          "data": {
            "text/plain": [
              "5"
            ]
          },
          "metadata": {
            "tags": []
          },
          "execution_count": 2
        }
      ]
    },
    {
      "cell_type": "code",
      "metadata": {
        "colab": {
          "base_uri": "https://localhost:8080/"
        },
        "id": "9mh8bIQRZZas",
        "outputId": "594da42f-79ac-43e4-aad6-b615a9433ca8"
      },
      "source": [
        "a=\"Hello Good Morning\"\n",
        "b=23.33\n",
        "c=12\n",
        "print(a,b,c)"
      ],
      "execution_count": null,
      "outputs": [
        {
          "output_type": "stream",
          "text": [
            "Hello Good Morning 23.33 12\n"
          ],
          "name": "stdout"
        }
      ]
    },
    {
      "cell_type": "code",
      "metadata": {
        "colab": {
          "base_uri": "https://localhost:8080/"
        },
        "id": "QJr5O2GZdKgM",
        "outputId": "c201db86-0f1d-40eb-bbac-a2a5e5d6964b"
      },
      "source": [
        "a=30\n",
        "b=20.66\n",
        "c=5+6j\n",
        "print(a,b,c)"
      ],
      "execution_count": null,
      "outputs": [
        {
          "output_type": "stream",
          "text": [
            "30 20.66 (5+6j)\n"
          ],
          "name": "stdout"
        }
      ]
    },
    {
      "cell_type": "code",
      "metadata": {
        "colab": {
          "base_uri": "https://localhost:8080/"
        },
        "id": "t5V2-Li2eO3v",
        "outputId": "c68d73a9-69c5-400c-8637-a6f8b7fa7381"
      },
      "source": [
        "#type Conversion\n",
        "a=30\n",
        "b=20.55\n",
        "c=3+3j\n",
        "print(int(b),str(c),float(a))"
      ],
      "execution_count": null,
      "outputs": [
        {
          "output_type": "stream",
          "text": [
            "20 (3+3j) 30.0\n"
          ],
          "name": "stdout"
        }
      ]
    },
    {
      "cell_type": "code",
      "metadata": {
        "colab": {
          "base_uri": "https://localhost:8080/"
        },
        "id": "ygoC3rWbhcLE",
        "outputId": "fa74d20e-57b6-4e9b-fee6-9cfc82140d5d"
      },
      "source": [
        "list=[10,20,30,10,50]\n",
        "list.insert(2,\"JaiRam\")\n",
        "list.insert(2,\"Dada\")\n",
        "\n",
        "print(list)\n"
      ],
      "execution_count": null,
      "outputs": [
        {
          "output_type": "stream",
          "text": [
            "[10, 20, 'Dada', 'JaiRam', 30, 10, 50]\n"
          ],
          "name": "stdout"
        }
      ]
    },
    {
      "cell_type": "code",
      "metadata": {
        "colab": {
          "base_uri": "https://localhost:8080/"
        },
        "id": "vbnJUitcjnzZ",
        "outputId": "6f820c65-a3db-49d4-f88c-78146f731018"
      },
      "source": [
        "list.index(\"JaiRam\")"
      ],
      "execution_count": null,
      "outputs": [
        {
          "output_type": "execute_result",
          "data": {
            "text/plain": [
              "3"
            ]
          },
          "metadata": {
            "tags": []
          },
          "execution_count": 21
        }
      ]
    },
    {
      "cell_type": "code",
      "metadata": {
        "colab": {
          "base_uri": "https://localhost:8080/"
        },
        "id": "WxmZ1sKpj1L5",
        "outputId": "2379965c-8a39-476a-f1e8-b9700219973c"
      },
      "source": [
        "list"
      ],
      "execution_count": null,
      "outputs": [
        {
          "output_type": "execute_result",
          "data": {
            "text/plain": [
              "[10, 20]"
            ]
          },
          "metadata": {
            "tags": []
          },
          "execution_count": 32
        }
      ]
    },
    {
      "cell_type": "code",
      "metadata": {
        "id": "c0WcnBoSlnQP"
      },
      "source": [
        ""
      ],
      "execution_count": null,
      "outputs": []
    },
    {
      "cell_type": "code",
      "metadata": {
        "colab": {
          "base_uri": "https://localhost:8080/"
        },
        "id": "gfRBZIkWlsRm",
        "outputId": "4f45d333-bd3a-4400-a276-d9179e3a0ab0"
      },
      "source": [
        "list"
      ],
      "execution_count": null,
      "outputs": [
        {
          "output_type": "execute_result",
          "data": {
            "text/plain": [
              "[10, 20]"
            ]
          },
          "metadata": {
            "tags": []
          },
          "execution_count": 34
        }
      ]
    },
    {
      "cell_type": "code",
      "metadata": {
        "colab": {
          "base_uri": "https://localhost:8080/"
        },
        "id": "RqfUDQ76l0sa",
        "outputId": "179f69a9-b38d-47ae-eb61-f3234ddf721e"
      },
      "source": [
        "list.append(30)\n",
        "list"
      ],
      "execution_count": null,
      "outputs": [
        {
          "output_type": "execute_result",
          "data": {
            "text/plain": [
              "[10, 20, 30]"
            ]
          },
          "metadata": {
            "tags": []
          },
          "execution_count": 37
        }
      ]
    },
    {
      "cell_type": "code",
      "metadata": {
        "colab": {
          "base_uri": "https://localhost:8080/"
        },
        "id": "1IOeIRdqmsSK",
        "outputId": "9915bf6d-18ed-4d95-f1af-a75549c70025"
      },
      "source": [
        "list[: :-1]\n",
        "list"
      ],
      "execution_count": null,
      "outputs": [
        {
          "output_type": "execute_result",
          "data": {
            "text/plain": [
              "[10, 20, 30]"
            ]
          },
          "metadata": {
            "tags": []
          },
          "execution_count": 39
        }
      ]
    },
    {
      "cell_type": "code",
      "metadata": {
        "colab": {
          "base_uri": "https://localhost:8080/"
        },
        "id": "tV_av7LTlvIt",
        "outputId": "045fbe9c-2b49-42fe-fddc-04c6325c89ba"
      },
      "source": [
        "list.sort(reverse=True)\n",
        "list"
      ],
      "execution_count": null,
      "outputs": [
        {
          "output_type": "execute_result",
          "data": {
            "text/plain": [
              "[30, 20, 10]"
            ]
          },
          "metadata": {
            "tags": []
          },
          "execution_count": 41
        }
      ]
    },
    {
      "cell_type": "code",
      "metadata": {
        "colab": {
          "base_uri": "https://localhost:8080/"
        },
        "id": "hTEuhoPpnTBN",
        "outputId": "9fde9cfb-424e-4520-d9dd-8920a5a76b7e"
      },
      "source": [
        "list[::-1]\n",
        "list"
      ],
      "execution_count": null,
      "outputs": [
        {
          "output_type": "execute_result",
          "data": {
            "text/plain": [
              "[30, 20, 10]"
            ]
          },
          "metadata": {
            "tags": []
          },
          "execution_count": 42
        }
      ]
    },
    {
      "cell_type": "code",
      "metadata": {
        "id": "o8FejbXRp18v"
      },
      "source": [
        "list.clear()"
      ],
      "execution_count": null,
      "outputs": []
    },
    {
      "cell_type": "code",
      "metadata": {
        "colab": {
          "base_uri": "https://localhost:8080/"
        },
        "id": "ezO0N19Yoa3A",
        "outputId": "717cae2f-971e-4046-c309-321729c740ff"
      },
      "source": [
        "#Tuple\n",
        "\n",
        "tuple=(10,20,30,'Daya','Aarati')\n",
        "tuple"
      ],
      "execution_count": null,
      "outputs": [
        {
          "output_type": "execute_result",
          "data": {
            "text/plain": [
              "(10, 20, 30, 'Daya', 'Aarati')"
            ]
          },
          "metadata": {
            "tags": []
          },
          "execution_count": 43
        }
      ]
    },
    {
      "cell_type": "code",
      "metadata": {
        "colab": {
          "base_uri": "https://localhost:8080/"
        },
        "id": "S1Hz6vPso-rb",
        "outputId": "85713a0e-52a7-4c20-f19d-8805f45225e7"
      },
      "source": [
        "tuple=tuple*2\n",
        "tuple"
      ],
      "execution_count": null,
      "outputs": [
        {
          "output_type": "execute_result",
          "data": {
            "text/plain": [
              "(10, 20, 30, 'Daya', 'Aarati', 10, 20, 30, 'Daya', 'Aarati')"
            ]
          },
          "metadata": {
            "tags": []
          },
          "execution_count": 44
        }
      ]
    },
    {
      "cell_type": "code",
      "metadata": {
        "colab": {
          "base_uri": "https://localhost:8080/"
        },
        "id": "2MLzfZiOpLCw",
        "outputId": "b18e70ff-9f42-4c1d-c0de-b49ca79d11ac"
      },
      "source": [
        "print(tuple[0:4])"
      ],
      "execution_count": null,
      "outputs": [
        {
          "output_type": "stream",
          "text": [
            "(10, 20, 30, 'Daya')\n"
          ],
          "name": "stdout"
        }
      ]
    },
    {
      "cell_type": "code",
      "metadata": {
        "colab": {
          "base_uri": "https://localhost:8080/"
        },
        "id": "8BazxVQFpeHF",
        "outputId": "9cd4bc1c-1200-40e4-bca0-bded5bb76cde"
      },
      "source": [
        "print(tuple[0:3])"
      ],
      "execution_count": null,
      "outputs": [
        {
          "output_type": "stream",
          "text": [
            "(10, 20, 30)\n"
          ],
          "name": "stdout"
        }
      ]
    },
    {
      "cell_type": "code",
      "metadata": {
        "colab": {
          "base_uri": "https://localhost:8080/"
        },
        "id": "FZWcNakOp6-K",
        "outputId": "f8ac971b-9515-4bb8-ebf1-91cbee1713a3"
      },
      "source": [
        "#Dictionary\n",
        "d={1:10,2:200,3:300,4:'Daya',5:'Ravi'}\n",
        "d"
      ],
      "execution_count": null,
      "outputs": [
        {
          "output_type": "execute_result",
          "data": {
            "text/plain": [
              "{1: 10, 2: 200, 3: 300, 4: 'Daya', 5: 'Ravi'}"
            ]
          },
          "metadata": {
            "tags": []
          },
          "execution_count": 48
        }
      ]
    },
    {
      "cell_type": "code",
      "metadata": {
        "colab": {
          "base_uri": "https://localhost:8080/"
        },
        "id": "vJjLIdEfrVjB",
        "outputId": "8788c602-4edc-40d2-a9b1-96df827f9169"
      },
      "source": [
        "d[2]=600\n",
        "d"
      ],
      "execution_count": null,
      "outputs": [
        {
          "output_type": "execute_result",
          "data": {
            "text/plain": [
              "{1: 10, 2: 600, 3: 300, 4: 'Daya', 5: 'Ravi'}"
            ]
          },
          "metadata": {
            "tags": []
          },
          "execution_count": 51
        }
      ]
    },
    {
      "cell_type": "code",
      "metadata": {
        "colab": {
          "base_uri": "https://localhost:8080/"
        },
        "id": "PYSivw6orrtH",
        "outputId": "464ce905-ce89-405b-f2f4-50b72a495748"
      },
      "source": [
        "d[0]='Daya'\n",
        "d[4]=600\n",
        "d"
      ],
      "execution_count": null,
      "outputs": [
        {
          "output_type": "execute_result",
          "data": {
            "text/plain": [
              "{0: 'Daya', 1: 10, 2: 600, 3: 300, 4: 600, 5: 'Ravi'}"
            ]
          },
          "metadata": {
            "tags": []
          },
          "execution_count": 54
        }
      ]
    },
    {
      "cell_type": "code",
      "metadata": {
        "colab": {
          "base_uri": "https://localhost:8080/"
        },
        "id": "O05ab_KIr6TX",
        "outputId": "323ef9c4-3865-4a74-8046-35f39fa3fd1f"
      },
      "source": [
        "pizza ={ 'Name' :['Daya', 'Balaji'],\n",
        "         'Codes': ['111','222'],\n",
        "          'Shop': ['Dominos','Showroom']} \n",
        "\n",
        "#pizza\n",
        "#pizza.keys()\n",
        "#pizza.values()  \n",
        "len(pizza)        \n"
      ],
      "execution_count": null,
      "outputs": [
        {
          "output_type": "execute_result",
          "data": {
            "text/plain": [
              "dict_values([['Daya', 'Balaji'], ['111', '222'], ['Dominos', 'Showroom']])"
            ]
          },
          "metadata": {
            "tags": []
          },
          "execution_count": 58
        }
      ]
    },
    {
      "cell_type": "code",
      "metadata": {
        "id": "QcmzHcQN8dUX"
      },
      "source": [
        "# empty dictionary\n",
        "my_dict = {}\n"
      ],
      "execution_count": null,
      "outputs": []
    },
    {
      "cell_type": "code",
      "metadata": {
        "id": "nJN5heHb8lzD"
      },
      "source": [
        "# dictionary with integer keys\n",
        "my_dict = {1: 'apple', 2: 'ball'}\n"
      ],
      "execution_count": null,
      "outputs": []
    },
    {
      "cell_type": "code",
      "metadata": {
        "id": "dhL9VeAm8gjR"
      },
      "source": [
        "# dictionary with mixed keys\n",
        "my_dict = {'name': 'John', 1: [2, 4, 3]}"
      ],
      "execution_count": null,
      "outputs": []
    },
    {
      "cell_type": "code",
      "metadata": {
        "id": "8rdRACVx8fIa"
      },
      "source": [
        "# using dict()\n",
        "my_dict = dict({1:'apple', 2:'ball'})"
      ],
      "execution_count": null,
      "outputs": []
    },
    {
      "cell_type": "code",
      "metadata": {
        "id": "ygWLro-w9saC"
      },
      "source": [
        "# from sequence having each item as a pair\n",
        "my_dict = dict([(1,'apple'), (2,'ball')])"
      ],
      "execution_count": null,
      "outputs": []
    },
    {
      "cell_type": "code",
      "metadata": {
        "colab": {
          "base_uri": "https://localhost:8080/",
          "height": 250
        },
        "id": "RPIU_hi59_j9",
        "outputId": "49c1f880-1032-4e57-e342-206594e60505"
      },
      "source": [
        "# get vs [] for retrieving elements\n",
        "my_dict = {'name': 'Jack', 'age': 26}\n",
        "\n",
        "# Output: Jack\n",
        "print(my_dict['name'])\n",
        "\n",
        "# Output: 26\n",
        "print(my_dict.get('age'))\n",
        "\n",
        "# Trying to access keys which doesn't exist throws error\n",
        "# Output None\n",
        "print(my_dict.get('address'))\n",
        "\n",
        "# KeyError\n",
        "print(my_dict['address'])"
      ],
      "execution_count": null,
      "outputs": [
        {
          "output_type": "stream",
          "text": [
            "Jack\n",
            "26\n",
            "None\n"
          ],
          "name": "stdout"
        },
        {
          "output_type": "error",
          "ename": "KeyError",
          "evalue": "ignored",
          "traceback": [
            "\u001b[0;31m---------------------------------------------------------------------------\u001b[0m",
            "\u001b[0;31mKeyError\u001b[0m                                  Traceback (most recent call last)",
            "\u001b[0;32m<ipython-input-63-2ec6dc01caba>\u001b[0m in \u001b[0;36m<module>\u001b[0;34m()\u001b[0m\n\u001b[1;32m     13\u001b[0m \u001b[0;34m\u001b[0m\u001b[0m\n\u001b[1;32m     14\u001b[0m \u001b[0;31m# KeyError\u001b[0m\u001b[0;34m\u001b[0m\u001b[0;34m\u001b[0m\u001b[0;34m\u001b[0m\u001b[0m\n\u001b[0;32m---> 15\u001b[0;31m \u001b[0mprint\u001b[0m\u001b[0;34m(\u001b[0m\u001b[0mmy_dict\u001b[0m\u001b[0;34m[\u001b[0m\u001b[0;34m'address'\u001b[0m\u001b[0;34m]\u001b[0m\u001b[0;34m)\u001b[0m\u001b[0;34m\u001b[0m\u001b[0;34m\u001b[0m\u001b[0m\n\u001b[0m",
            "\u001b[0;31mKeyError\u001b[0m: 'address'"
          ]
        }
      ]
    },
    {
      "cell_type": "code",
      "metadata": {
        "id": "0NhqLZ07-Zs1"
      },
      "source": [
        "# Changing and adding Dictionary Elements\n",
        "my_dict = {'name': 'Jack', 'age': 26}\n",
        "\n",
        "# update value\n",
        "my_dict['age'] = 27\n",
        "\n",
        "#Output: {'age': 27, 'name': 'Jack'}\n",
        "print(my_dict)\n",
        "\n",
        "# add item\n",
        "my_dict['address'] = 'Downtown'\n",
        "\n",
        "# Output: {'address': 'Downtown', 'age': 27, 'name': 'Jack'}\n",
        "print(my_dict)"
      ],
      "execution_count": null,
      "outputs": []
    },
    {
      "cell_type": "code",
      "metadata": {
        "id": "fmEoi1rL-fvE"
      },
      "source": [
        "# Removing elements from a dictionary\n",
        "\n",
        "# create a dictionary\n",
        "squares = {1: 1, 2: 4, 3: 9, 4: 16, 5: 25}\n",
        "\n",
        "# remove a particular item, returns its value\n",
        "print(squares.pop(4))"
      ],
      "execution_count": null,
      "outputs": []
    },
    {
      "cell_type": "code",
      "metadata": {
        "id": "62vVu9-O-qdV"
      },
      "source": [
        "print(squares)\n",
        "\n",
        "# remove an arbitrary item, return (key,value)\n",
        "print(squares.popitem())\n",
        "\n",
        "print(squares)\n",
        "\n",
        "# remove all items\n",
        "squares.clear()\n",
        "\n",
        "\n",
        "print(squares)\n",
        "\n",
        "# delete the dictionary itself\n",
        "del squares\n",
        "\n",
        "\n",
        "# Throws Error\n",
        "print(squares)"
      ],
      "execution_count": null,
      "outputs": []
    },
    {
      "cell_type": "code",
      "metadata": {
        "colab": {
          "base_uri": "https://localhost:8080/"
        },
        "id": "AQceIAAx_it6",
        "outputId": "e059e3b4-aa60-4545-c87c-fe494c47d632"
      },
      "source": [
        "#String\n",
        "\n",
        "print(\"Hello\")"
      ],
      "execution_count": null,
      "outputs": [
        {
          "output_type": "stream",
          "text": [
            "Hello\n"
          ],
          "name": "stdout"
        }
      ]
    },
    {
      "cell_type": "code",
      "metadata": {
        "colab": {
          "base_uri": "https://localhost:8080/"
        },
        "id": "nRQBxANPA4VM",
        "outputId": "d1eab700-7c29-4db7-cc29-4d049fab1cdd"
      },
      "source": [
        "a = \"Hello\"\n",
        "print(a)"
      ],
      "execution_count": null,
      "outputs": [
        {
          "output_type": "stream",
          "text": [
            "Hello\n"
          ],
          "name": "stdout"
        }
      ]
    },
    {
      "cell_type": "code",
      "metadata": {
        "colab": {
          "base_uri": "https://localhost:8080/"
        },
        "id": "MpYME2-5A-Jg",
        "outputId": "1edb1fba-6693-425d-f692-406f8688ced9"
      },
      "source": [
        "a = \"\"\"Lorem ipsum dolor sit amet,\n",
        "consectetur adipiscing elit,\n",
        "sed do eiusmod tempor incididunt\n",
        "ut labore et dolore magna aliqua.\"\"\"\n",
        "print(a)"
      ],
      "execution_count": null,
      "outputs": [
        {
          "output_type": "stream",
          "text": [
            "Lorem ipsum dolor sit amet,\n",
            "consectetur adipiscing elit,\n",
            "sed do eiusmod tempor incididunt\n",
            "ut labore et dolore magna aliqua.\n"
          ],
          "name": "stdout"
        }
      ]
    },
    {
      "cell_type": "code",
      "metadata": {
        "colab": {
          "base_uri": "https://localhost:8080/"
        },
        "id": "dgqHaymzBCz0",
        "outputId": "f1b2ecfb-22ce-4f39-d245-e96f7084a2ab"
      },
      "source": [
        "a = \"Hello, World!\"\n",
        "print(a[1])"
      ],
      "execution_count": null,
      "outputs": [
        {
          "output_type": "stream",
          "text": [
            "e\n"
          ],
          "name": "stdout"
        }
      ]
    },
    {
      "cell_type": "code",
      "metadata": {
        "colab": {
          "base_uri": "https://localhost:8080/"
        },
        "id": "GVka8ypmBQAr",
        "outputId": "e6aa5e13-83c6-4365-f856-5f1005c6718e"
      },
      "source": [
        "for x in \"banana\":\n",
        "  print(x)"
      ],
      "execution_count": null,
      "outputs": [
        {
          "output_type": "stream",
          "text": [
            "b\n",
            "a\n",
            "n\n",
            "a\n",
            "n\n",
            "a\n"
          ],
          "name": "stdout"
        }
      ]
    },
    {
      "cell_type": "code",
      "metadata": {
        "colab": {
          "base_uri": "https://localhost:8080/"
        },
        "id": "luO8VaebBU5a",
        "outputId": "5269f383-16f4-4d43-fe58-4f9a3a3ad000"
      },
      "source": [
        "a = \"Hello, World!\"\n",
        "print(len(a))"
      ],
      "execution_count": null,
      "outputs": [
        {
          "output_type": "stream",
          "text": [
            "13\n"
          ],
          "name": "stdout"
        }
      ]
    },
    {
      "cell_type": "code",
      "metadata": {
        "colab": {
          "base_uri": "https://localhost:8080/",
          "height": 35
        },
        "id": "3H8pQy1qCXTc",
        "outputId": "402a8e87-3cc0-4441-ad22-b20b923bc6cc"
      },
      "source": [
        "a"
      ],
      "execution_count": null,
      "outputs": [
        {
          "output_type": "execute_result",
          "data": {
            "application/vnd.google.colaboratory.intrinsic+json": {
              "type": "string"
            },
            "text/plain": [
              "'Hello, World!'"
            ]
          },
          "metadata": {
            "tags": []
          },
          "execution_count": 70
        }
      ]
    },
    {
      "cell_type": "code",
      "metadata": {
        "colab": {
          "base_uri": "https://localhost:8080/"
        },
        "id": "P7-z1ej7CXzH",
        "outputId": "fe36550c-fd05-4bcc-dac9-2ae4f0e43d10"
      },
      "source": [
        "b = \"Hello, World!\"\n",
        "print(b[2:5])"
      ],
      "execution_count": null,
      "outputs": [
        {
          "output_type": "stream",
          "text": [
            "llo\n"
          ],
          "name": "stdout"
        }
      ]
    },
    {
      "cell_type": "code",
      "metadata": {
        "colab": {
          "base_uri": "https://localhost:8080/"
        },
        "id": "_ePT7NScCYGf",
        "outputId": "6c269637-03e0-4624-ddb9-18688f1dee26"
      },
      "source": [
        "#sets:\n",
        "\n",
        "x={1,2,3,4,5}\n",
        "y={2,3,11,12,6,7}\n",
        "print(x,y)"
      ],
      "execution_count": null,
      "outputs": [
        {
          "output_type": "stream",
          "text": [
            "{1, 2, 3, 4, 5} {2, 3, 6, 7, 11, 12}\n"
          ],
          "name": "stdout"
        }
      ]
    },
    {
      "cell_type": "code",
      "metadata": {
        "colab": {
          "base_uri": "https://localhost:8080/"
        },
        "id": "xZr3zWBME4QL",
        "outputId": "7822c356-1a5c-41b2-d966-a0e01fba7fcb"
      },
      "source": [
        "print(x|y)"
      ],
      "execution_count": null,
      "outputs": [
        {
          "output_type": "stream",
          "text": [
            "{1, 2, 3, 4, 5, 6, 7, 11, 12}\n"
          ],
          "name": "stdout"
        }
      ]
    },
    {
      "cell_type": "code",
      "metadata": {
        "colab": {
          "base_uri": "https://localhost:8080/"
        },
        "id": "T7j8ANlJFAMh",
        "outputId": "fd33fd77-3ded-4ef9-8495-fff72f9922c3"
      },
      "source": [
        "print(x&y)"
      ],
      "execution_count": null,
      "outputs": [
        {
          "output_type": "stream",
          "text": [
            "{2, 3}\n"
          ],
          "name": "stdout"
        }
      ]
    },
    {
      "cell_type": "code",
      "metadata": {
        "colab": {
          "base_uri": "https://localhost:8080/"
        },
        "id": "oni07G3IFHlt",
        "outputId": "3b30ebda-f2c6-41ad-f5ce-5b9305ce58c5"
      },
      "source": [
        "print(x-y)"
      ],
      "execution_count": null,
      "outputs": [
        {
          "output_type": "stream",
          "text": [
            "{1, 4, 5}\n"
          ],
          "name": "stdout"
        }
      ]
    },
    {
      "cell_type": "code",
      "metadata": {
        "colab": {
          "base_uri": "https://localhost:8080/"
        },
        "id": "OyNHgF-nFLxP",
        "outputId": "3a219155-4d49-41f5-b135-633cb0f56ae1"
      },
      "source": [
        "#Symmetry\n",
        "print(x^y)"
      ],
      "execution_count": null,
      "outputs": [
        {
          "output_type": "stream",
          "text": [
            "{1, 4, 5, 6, 7, 11, 12}\n"
          ],
          "name": "stdout"
        }
      ]
    },
    {
      "cell_type": "code",
      "metadata": {
        "colab": {
          "base_uri": "https://localhost:8080/"
        },
        "id": "OE9w9MKTHiue",
        "outputId": "5d7a7bb7-14b2-4bf2-c8d2-5e41db74bbc2"
      },
      "source": [
        "#Slicing\n",
        "\n",
        "S=\"Hyderabad\"\n",
        "print(S)\n",
        "print(S[1:4])\n",
        "print(S[0:7:1])\n",
        "print(S[0:7:2])\n",
        "print(S[1:-5])\n",
        "print(S[1::1])\n",
        "print(S[1:200])\n",
        "print(S[:6])\n",
        "print(S[1:1:1])\n",
        "print(S[1:8:3])\n",
        "print(S*10)"
      ],
      "execution_count": null,
      "outputs": [
        {
          "output_type": "stream",
          "text": [
            "Hyderabad\n",
            "yde\n",
            "Hyderab\n",
            "Hdrb\n",
            "yde\n",
            "yderabad\n",
            "yderabad\n",
            "Hydera\n",
            "\n",
            "yra\n",
            "HyderabadHyderabadHyderabadHyderabadHyderabadHyderabadHyderabadHyderabadHyderabadHyderabad\n"
          ],
          "name": "stdout"
        }
      ]
    },
    {
      "cell_type": "code",
      "metadata": {
        "colab": {
          "base_uri": "https://localhost:8080/",
          "height": 131
        },
        "id": "_jDqBojtL16r",
        "outputId": "29c2ed0b-d212-47ff-fc5e-55396dd9f23d"
      },
      "source": [
        "#for loop\n",
        "\n",
        "str=\"training\"\n",
        "for i in str:\n",
        "print(i)"
      ],
      "execution_count": null,
      "outputs": [
        {
          "output_type": "error",
          "ename": "IndentationError",
          "evalue": "ignored",
          "traceback": [
            "\u001b[0;36m  File \u001b[0;32m\"<ipython-input-94-4ee0860909a4>\"\u001b[0;36m, line \u001b[0;32m5\u001b[0m\n\u001b[0;31m    print(i)\u001b[0m\n\u001b[0m        ^\u001b[0m\n\u001b[0;31mIndentationError\u001b[0m\u001b[0;31m:\u001b[0m expected an indented block\n"
          ]
        }
      ]
    },
    {
      "cell_type": "code",
      "metadata": {
        "colab": {
          "base_uri": "https://localhost:8080/"
        },
        "id": "s8qFKqWOMJsc",
        "outputId": "82adc250-5546-453b-d882-797a72dec6f2"
      },
      "source": [
        "list=[1,2,3,4,5,6,7,8]\n",
        "\n",
        "n=6\n",
        "for i in list:\n",
        "  x=n*1\n",
        "  print(x)"
      ],
      "execution_count": null,
      "outputs": [
        {
          "output_type": "stream",
          "text": [
            "6\n",
            "6\n",
            "6\n",
            "6\n",
            "6\n",
            "6\n",
            "6\n",
            "6\n"
          ],
          "name": "stdout"
        }
      ]
    },
    {
      "cell_type": "code",
      "metadata": {
        "colab": {
          "base_uri": "https://localhost:8080/"
        },
        "id": "FErx-bHoPiYH",
        "outputId": "2250db55-9dd5-48a2-8cb7-0c2212ad9f5c"
      },
      "source": [
        "#Numeric Data Types:\n",
        "#int\n",
        "x = 1\n",
        "y = 35656222554887711\n",
        "z = -3255522\n",
        "\n",
        "print(type(x))\n",
        "print(type(y))\n",
        "print(type(z))"
      ],
      "execution_count": null,
      "outputs": [
        {
          "output_type": "stream",
          "text": [
            "<class 'int'>\n",
            "<class 'int'>\n",
            "<class 'int'>\n"
          ],
          "name": "stdout"
        }
      ]
    },
    {
      "cell_type": "code",
      "metadata": {
        "colab": {
          "base_uri": "https://localhost:8080/"
        },
        "id": "fGbVsSF1PxrB",
        "outputId": "566ad003-f09b-4e0d-a0c0-f6893e83f69a"
      },
      "source": [
        "#Float\n",
        "x = 1.10\n",
        "y = 1.0\n",
        "z = -35.59\n",
        "\n",
        "print(type(x))\n",
        "print(type(y))\n",
        "print(type(z))"
      ],
      "execution_count": null,
      "outputs": [
        {
          "output_type": "stream",
          "text": [
            "<class 'float'>\n",
            "<class 'float'>\n",
            "<class 'float'>\n"
          ],
          "name": "stdout"
        }
      ]
    },
    {
      "cell_type": "code",
      "metadata": {
        "colab": {
          "base_uri": "https://localhost:8080/"
        },
        "id": "9tZ3WUyHHi9_",
        "outputId": "d792f3f3-4fb5-4d9b-d7e1-556d72e533ca"
      },
      "source": [
        "#Complex\n",
        "x = 3+5j\n",
        "y = 5j\n",
        "z = -5j\n",
        "\n",
        "print(type(x))\n",
        "print(type(y))\n",
        "print(type(z))\n"
      ],
      "execution_count": null,
      "outputs": [
        {
          "output_type": "stream",
          "text": [
            "<class 'complex'>\n",
            "<class 'complex'>\n",
            "<class 'complex'>\n"
          ],
          "name": "stdout"
        }
      ]
    },
    {
      "cell_type": "code",
      "metadata": {
        "colab": {
          "base_uri": "https://localhost:8080/"
        },
        "id": "uMKO7GM7FL7O",
        "outputId": "13a3e8c6-2a6e-4c65-ba8a-9d3849b4ebf3"
      },
      "source": [
        "#String:\n",
        "a = \"Hello\"\n",
        "print(a)"
      ],
      "execution_count": null,
      "outputs": [
        {
          "output_type": "stream",
          "text": [
            "Hello\n"
          ],
          "name": "stdout"
        }
      ]
    },
    {
      "cell_type": "code",
      "metadata": {
        "colab": {
          "base_uri": "https://localhost:8080/"
        },
        "id": "gtlN-6gsFL-7",
        "outputId": "012e69bc-feb4-4639-b865-150200167140"
      },
      "source": [
        "#List\n",
        "\n",
        "a = [\"apple\", \"banana\", \"cherry\"]\n",
        "print(a)"
      ],
      "execution_count": null,
      "outputs": [
        {
          "output_type": "stream",
          "text": [
            "['apple', 'banana', 'cherry']\n"
          ],
          "name": "stdout"
        }
      ]
    },
    {
      "cell_type": "code",
      "metadata": {
        "colab": {
          "base_uri": "https://localhost:8080/"
        },
        "id": "Yi4u-TY3FMAv",
        "outputId": "74cd95d6-c6f6-4982-ee0d-b129f55fcc6d"
      },
      "source": [
        "#Tuples\n",
        "a = (\"apple\", \"banana\", \"cherry\")\n",
        "print(a)"
      ],
      "execution_count": null,
      "outputs": [
        {
          "output_type": "stream",
          "text": [
            "('apple', 'banana', 'cherry')\n"
          ],
          "name": "stdout"
        }
      ]
    },
    {
      "cell_type": "code",
      "metadata": {
        "colab": {
          "base_uri": "https://localhost:8080/"
        },
        "id": "3A5GaWMMFMCr",
        "outputId": "5f205171-8b7b-4154-d32f-66a174da24e4"
      },
      "source": [
        "#Sets\n",
        "a = {\"apple\", \"banana\", \"cherry\"}\n",
        "print(a)"
      ],
      "execution_count": null,
      "outputs": [
        {
          "output_type": "stream",
          "text": [
            "{'apple', 'banana', 'cherry'}\n"
          ],
          "name": "stdout"
        }
      ]
    },
    {
      "cell_type": "code",
      "metadata": {
        "colab": {
          "base_uri": "https://localhost:8080/"
        },
        "id": "JY9-2lQFTYOP",
        "outputId": "811531df-e244-4925-ffee-7d48466e96ed"
      },
      "source": [
        "#Dict\n",
        "a = {\n",
        "  \"brand\": \"Ford\",\n",
        "  \"model\": \"Mustang\",\n",
        "  \"year\": 1964\n",
        "}\n",
        "print(a)"
      ],
      "execution_count": null,
      "outputs": [
        {
          "output_type": "stream",
          "text": [
            "{'brand': 'Ford', 'model': 'Mustang', 'year': 1964}\n"
          ],
          "name": "stdout"
        }
      ]
    },
    {
      "cell_type": "code",
      "metadata": {
        "colab": {
          "base_uri": "https://localhost:8080/"
        },
        "id": "sdu4SzybTYbV",
        "outputId": "4f20f568-eb16-4318-b481-7c02fb03e5b5"
      },
      "source": [
        "#For loop\n",
        "fruits = [\"apple\", \"banana\", \"cherry\"]\n",
        "for x in fruits:\n",
        "  print(x)"
      ],
      "execution_count": null,
      "outputs": [
        {
          "output_type": "stream",
          "text": [
            "apple\n",
            "banana\n",
            "cherry\n"
          ],
          "name": "stdout"
        }
      ]
    },
    {
      "cell_type": "code",
      "metadata": {
        "colab": {
          "base_uri": "https://localhost:8080/",
          "height": 131
        },
        "id": "RC6_PvgITYdx",
        "outputId": "cfe7635c-6ca7-4531-d145-f600a1f04355"
      },
      "source": [
        "#Identity\n",
        "\n",
        "x=60\n",
        "y=60\n",
        "if x in y:\n",
        "  print('It is similar')\n",
        "    else\n",
        "        print('It is not similar')\n"
      ],
      "execution_count": null,
      "outputs": [
        {
          "output_type": "error",
          "ename": "IndentationError",
          "evalue": "ignored",
          "traceback": [
            "\u001b[0;36m  File \u001b[0;32m\"<ipython-input-110-db0d9916fe32>\"\u001b[0;36m, line \u001b[0;32m7\u001b[0m\n\u001b[0;31m    else\u001b[0m\n\u001b[0m    ^\u001b[0m\n\u001b[0;31mIndentationError\u001b[0m\u001b[0;31m:\u001b[0m unexpected indent\n"
          ]
        }
      ]
    },
    {
      "cell_type": "code",
      "metadata": {
        "colab": {
          "base_uri": "https://localhost:8080/"
        },
        "id": "r3xsC1eQeDyy",
        "outputId": "c39204ae-36a0-436c-cbea-441b0da74c81"
      },
      "source": [
        "#Function\n",
        "def my_function():\n",
        "  print(\"Hello from a function\")\n",
        "my_function()  "
      ],
      "execution_count": null,
      "outputs": [
        {
          "output_type": "stream",
          "text": [
            "Hello from a function\n"
          ],
          "name": "stdout"
        }
      ]
    },
    {
      "cell_type": "code",
      "metadata": {
        "id": "d0ERHbwNh8ZZ"
      },
      "source": [
        ""
      ],
      "execution_count": null,
      "outputs": []
    },
    {
      "cell_type": "code",
      "metadata": {
        "id": "Rfg8FOXjh8oy",
        "colab": {
          "base_uri": "https://localhost:8080/"
        },
        "outputId": "d08e15be-eca3-4576-94f2-1f6ad65045e5"
      },
      "source": [
        "#funtions\n",
        "#1_Built in function \n",
        "\n",
        "integer = -40\n",
        "print('absolute value of -40 is:',abs(integer))"
      ],
      "execution_count": null,
      "outputs": [
        {
          "output_type": "stream",
          "text": [
            "absolute value of -40 is: 40\n"
          ],
          "name": "stdout"
        }
      ]
    },
    {
      "cell_type": "code",
      "metadata": {
        "id": "WSd5lg3th84P",
        "colab": {
          "base_uri": "https://localhost:8080/"
        },
        "outputId": "8979ec3f-931e-44af-f4f6-037b4cb02252"
      },
      "source": [
        "float =-6.54\n",
        "print('absolute value of -6.54 is:',abs(float))"
      ],
      "execution_count": null,
      "outputs": [
        {
          "output_type": "stream",
          "text": [
            "absolute value of -6.54 is: 6.54\n"
          ],
          "name": "stdout"
        }
      ]
    },
    {
      "cell_type": "code",
      "metadata": {
        "id": "TYkt5e9bTYgc",
        "colab": {
          "base_uri": "https://localhost:8080/"
        },
        "outputId": "39adddbf-b6e7-48e8-8d43-e2c6853da433"
      },
      "source": [
        "complex=10+6j\n",
        "print('absolute value of 10+6j is:',abs(complex))"
      ],
      "execution_count": null,
      "outputs": [
        {
          "output_type": "stream",
          "text": [
            "absolute value of 10+6j is: 11.661903789690601\n"
          ],
          "name": "stdout"
        }
      ]
    },
    {
      "cell_type": "code",
      "metadata": {
        "id": "rMGgLy1gTYj0",
        "colab": {
          "base_uri": "https://localhost:8080/"
        },
        "outputId": "39209652-7f4c-46e8-c63d-c2f36d1e7dec"
      },
      "source": [
        "#2_All function---Contains true value output is true, Any False(0) then output is False\n",
        "i=[1,2,5,6,8]\n",
        "print(all(i))\n"
      ],
      "execution_count": null,
      "outputs": [
        {
          "output_type": "stream",
          "text": [
            "True\n"
          ],
          "name": "stdout"
        }
      ]
    },
    {
      "cell_type": "code",
      "metadata": {
        "id": "cr8irOTHTYmr",
        "colab": {
          "base_uri": "https://localhost:8080/"
        },
        "outputId": "ad3b4a8a-0d53-4166-b6a7-aceee1b5801a"
      },
      "source": [
        "i=[1,2,3,4,0]\n",
        "print(all(i))"
      ],
      "execution_count": null,
      "outputs": [
        {
          "output_type": "stream",
          "text": [
            "False\n"
          ],
          "name": "stdout"
        }
      ]
    },
    {
      "cell_type": "code",
      "metadata": {
        "id": "7d7q_TYQTYoy",
        "colab": {
          "base_uri": "https://localhost:8080/"
        },
        "outputId": "ae1fb4a9-f123-4b0e-85bd-6d24d772d1db"
      },
      "source": [
        "l=[]\n",
        "print(all(l))"
      ],
      "execution_count": null,
      "outputs": [
        {
          "output_type": "stream",
          "text": [
            "True\n"
          ],
          "name": "stdout"
        }
      ]
    },
    {
      "cell_type": "code",
      "metadata": {
        "colab": {
          "base_uri": "https://localhost:8080/"
        },
        "id": "1aVfQYrJSHRu",
        "outputId": "fe383779-c648-44b1-8147-572d52ab01c7"
      },
      "source": [
        "#Ascii Function\n",
        "\n",
        "normalText = 'Python is interesting'\n",
        "print(ascii(normalText))\n",
        "\n",
        "otherText = 'Pythön is interesting'\n",
        "print(ascii(otherText))\n",
        "\n",
        "print('Pythn is interesting')"
      ],
      "execution_count": null,
      "outputs": [
        {
          "output_type": "stream",
          "text": [
            "'Python is interesting'\n",
            "'Pyth\\xf6n is interesting'\n",
            "Pythn is interesting\n"
          ],
          "name": "stdout"
        }
      ]
    },
    {
      "cell_type": "code",
      "metadata": {
        "colab": {
          "base_uri": "https://localhost:8080/"
        },
        "id": "TGTkYAXjSHVD",
        "outputId": "2f093be4-ded8-4ba4-8ef5-3283fe853b35"
      },
      "source": [
        "#Binary Functions\n",
        "number=36\n",
        "print('The binary Equivalent of 36 is:',bin(number))"
      ],
      "execution_count": null,
      "outputs": [
        {
          "output_type": "stream",
          "text": [
            "The binary Equivalent of 36 is: 0b100100\n"
          ],
          "name": "stdout"
        }
      ]
    },
    {
      "cell_type": "code",
      "metadata": {
        "colab": {
          "base_uri": "https://localhost:8080/"
        },
        "id": "GB7zJLGxSHak",
        "outputId": "6d3b6f79-c608-4823-a30e-41bcbb0947a8"
      },
      "source": [
        "#Bool Function\n",
        "\n",
        "abcd=[]\n",
        "print(abcd,'is',bool(abcd))"
      ],
      "execution_count": null,
      "outputs": [
        {
          "output_type": "stream",
          "text": [
            "[] is False\n"
          ],
          "name": "stdout"
        }
      ]
    },
    {
      "cell_type": "code",
      "metadata": {
        "colab": {
          "base_uri": "https://localhost:8080/"
        },
        "id": "P5nnYQ3BSHcX",
        "outputId": "75ac4277-b703-439c-89f9-bf65660aa286"
      },
      "source": [
        "abcd=0.1\n",
        "print(abcd,'is',bool(abcd))"
      ],
      "execution_count": null,
      "outputs": [
        {
          "output_type": "stream",
          "text": [
            "0.1 is True\n"
          ],
          "name": "stdout"
        }
      ]
    },
    {
      "cell_type": "code",
      "metadata": {
        "colab": {
          "base_uri": "https://localhost:8080/"
        },
        "id": "RqA-oiHwSHf0",
        "outputId": "b0845c38-bf9d-40e4-f656-655c39e88b99"
      },
      "source": [
        "abcd=None\n",
        "print(abcd,'is',bool(abcd))"
      ],
      "execution_count": null,
      "outputs": [
        {
          "output_type": "stream",
          "text": [
            "None is False\n"
          ],
          "name": "stdout"
        }
      ]
    },
    {
      "cell_type": "code",
      "metadata": {
        "colab": {
          "base_uri": "https://localhost:8080/"
        },
        "id": "nQteoJWzSHjW",
        "outputId": "23e9a21b-4c45-4bb5-f1e3-adb983469538"
      },
      "source": [
        "abcd=True\n",
        "print(abcd,'is',bool(abcd))"
      ],
      "execution_count": null,
      "outputs": [
        {
          "output_type": "stream",
          "text": [
            "True is True\n"
          ],
          "name": "stdout"
        }
      ]
    },
    {
      "cell_type": "code",
      "metadata": {
        "colab": {
          "base_uri": "https://localhost:8080/"
        },
        "id": "m35hANvFWYvo",
        "outputId": "76d703a1-7551-445b-c0f8-5833e266a36b"
      },
      "source": [
        "abcd='Python is easy'\n",
        "print(abcd,'is',bool(abcd))"
      ],
      "execution_count": null,
      "outputs": [
        {
          "output_type": "stream",
          "text": [
            "Python is easy is True\n"
          ],
          "name": "stdout"
        }
      ]
    },
    {
      "cell_type": "code",
      "metadata": {
        "colab": {
          "base_uri": "https://localhost:8080/"
        },
        "id": "bifyj2tRWY82",
        "outputId": "401b2d9f-0e84-4b07-ccd0-e66468c5d8aa"
      },
      "source": [
        "#dictionary_function\n",
        "numbers=dict(x=8,y='abcd')\n",
        "print('numbers=',numbers)\n",
        "print(type(numbers))"
      ],
      "execution_count": null,
      "outputs": [
        {
          "output_type": "stream",
          "text": [
            "numbers= {'x': 8, 'y': 'abcd'}\n",
            "<class 'dict'>\n"
          ],
          "name": "stdout"
        }
      ]
    },
    {
      "cell_type": "code",
      "metadata": {
        "colab": {
          "base_uri": "https://localhost:8080/"
        },
        "id": "VRlwYrlZWZAx",
        "outputId": "5768fd0f-afaf-4e18-a0ed-2e6ec35bcc4d"
      },
      "source": [
        "#eumerator_function\n",
        "capitals=['Banglore','Mumbai','Chennai']\n",
        "enumeratecapitals=enumerate(capitals)\n",
        "print(type(enumeratecapitals))\n",
        "print(list(enumeratecapitals))\n",
        "enumeratecapitals=enumerate(capitals,20)\n",
        "print(list(enumeratecapitals))\n"
      ],
      "execution_count": null,
      "outputs": [
        {
          "output_type": "stream",
          "text": [
            "<class 'enumerate'>\n",
            "[(0, 'Banglore'), (1, 'Mumbai'), (2, 'Chennai')]\n",
            "[(20, 'Banglore'), (21, 'Mumbai'), (22, 'Chennai')]\n"
          ],
          "name": "stdout"
        }
      ]
    },
    {
      "cell_type": "code",
      "metadata": {
        "colab": {
          "base_uri": "https://localhost:8080/"
        },
        "id": "Msn-7WGPWZHZ",
        "outputId": "3648a132-9fd7-4ae4-d349-31f14e593c9b"
      },
      "source": [
        "#Eval_function\n",
        "m=100\n",
        "print(eval('m+1'))\n",
        "\n",
        "x='print(50,61)'\n",
        "eval(x)"
      ],
      "execution_count": null,
      "outputs": [
        {
          "output_type": "stream",
          "text": [
            "101\n",
            "50 61\n"
          ],
          "name": "stdout"
        }
      ]
    },
    {
      "cell_type": "code",
      "metadata": {
        "colab": {
          "base_uri": "https://localhost:8080/"
        },
        "id": "R82SQdfQWZJB",
        "outputId": "524ed2c3-a85d-4fac-ebce-9ba0a2448a5a"
      },
      "source": [
        "alphabet = ['a','b','c','d','e','i','j','o']\n",
        "def filtervowel(alphabet):\n",
        "  vowels=['a','e','i','o','u']\n",
        "\n",
        " \n",
        "\n",
        "  if (alphabet in vowels):\n",
        "    return True\n",
        "  else:\n",
        "    return False\n",
        "\n",
        " \n",
        "\n",
        "filteredvowels = filter(filtervowel, alphabet)\n",
        "for vowel in filteredvowels:\n",
        "  print(vowel)\n",
        "\n"
      ],
      "execution_count": null,
      "outputs": [
        {
          "output_type": "stream",
          "text": [
            "a\n",
            "e\n",
            "i\n",
            "o\n"
          ],
          "name": "stdout"
        }
      ]
    },
    {
      "cell_type": "code",
      "metadata": {
        "colab": {
          "base_uri": "https://localhost:8080/"
        },
        "id": "ihnyK1KrWZLZ",
        "outputId": "7b951b09-d6c1-45e9-8d17-a0dfcdbe94a1"
      },
      "source": [
        "ages = [5, 12, 17, 18, 24, 32]\n",
        "\n",
        "def myFunc(x):\n",
        "  if x < 18:\n",
        "    return False\n",
        "  else:\n",
        "    return True\n",
        "\n",
        " \n",
        "\n",
        "adults = filter(myFunc, ages)\n",
        "\n",
        " \n",
        "\n",
        "for x in adults:\n",
        "  print(x)"
      ],
      "execution_count": null,
      "outputs": [
        {
          "output_type": "stream",
          "text": [
            "18\n",
            "24\n",
            "32\n"
          ],
          "name": "stdout"
        }
      ]
    },
    {
      "cell_type": "code",
      "metadata": {
        "colab": {
          "base_uri": "https://localhost:8080/"
        },
        "id": "ZuB-Wpv_fcYk",
        "outputId": "1b9a9c73-50e6-4f04-b8c4-4d007316f4c8"
      },
      "source": [
        "#getattribute function\n",
        "class person:\n",
        "  age=23\n",
        "  name='Daya'\n",
        "person=person()\n",
        "print('The age is:',getattr(person,'age'))\n",
        "print('The age is:',person.age)"
      ],
      "execution_count": null,
      "outputs": [
        {
          "output_type": "stream",
          "text": [
            "The age is: 23\n",
            "The age is: 23\n"
          ],
          "name": "stdout"
        }
      ]
    },
    {
      "cell_type": "code",
      "metadata": {
        "colab": {
          "base_uri": "https://localhost:8080/"
        },
        "id": "eQZKx2Ujfccl",
        "outputId": "27117635-a449-4f82-80fd-339ce6c05bd9"
      },
      "source": [
        "#length_function\n",
        "abcd=[]\n",
        "print(abcd,'length is',len(abcd))"
      ],
      "execution_count": null,
      "outputs": [
        {
          "output_type": "stream",
          "text": [
            "[] length is 0\n"
          ],
          "name": "stdout"
        }
      ]
    },
    {
      "cell_type": "code",
      "metadata": {
        "colab": {
          "base_uri": "https://localhost:8080/"
        },
        "id": "mrXDa1UIfchW",
        "outputId": "5fade072-4b5e-49bd-e2e6-eb652ef44787"
      },
      "source": [
        "pqrs=(1,2,3,4,5)\n",
        "print(pqrs,'length is',len(pqrs))"
      ],
      "execution_count": null,
      "outputs": [
        {
          "output_type": "stream",
          "text": [
            "(1, 2, 3, 4, 5) length is 5\n"
          ],
          "name": "stdout"
        }
      ]
    },
    {
      "cell_type": "code",
      "metadata": {
        "colab": {
          "base_uri": "https://localhost:8080/"
        },
        "id": "eldga0IMfcjU",
        "outputId": "37937c8b-dfd3-4a02-ae91-926bf804f373"
      },
      "source": [
        "#maximum_function\n",
        "\n",
        "print('The maximum is:',max(1,2,3,4,5,6,7))\n",
        "\n",
        "print('maximum is:',max('NeelAmolArya'))\n",
        "\n",
        "number=[11,44,66.7,89]\n",
        "print('maximum is:',max(number))"
      ],
      "execution_count": null,
      "outputs": [
        {
          "output_type": "stream",
          "text": [
            "The maximum is: 7\n",
            "maximum is: y\n",
            "maximum is: 89\n"
          ],
          "name": "stdout"
        }
      ]
    },
    {
      "cell_type": "code",
      "metadata": {
        "colab": {
          "base_uri": "https://localhost:8080/"
        },
        "id": "PaYkiEukfcom",
        "outputId": "b827e8b5-172c-4536-e7f4-68a1a849c322"
      },
      "source": [
        "#minimum_function\n",
        "number=[11,44,66.7,89]\n",
        "print('minimum is:',min(number))\n",
        "\n",
        "print('minimum is:',min('NeelAmolArya'))"
      ],
      "execution_count": null,
      "outputs": [
        {
          "output_type": "stream",
          "text": [
            "minimum is: 11\n",
            "minimum is: A\n"
          ],
          "name": "stdout"
        }
      ]
    },
    {
      "cell_type": "code",
      "metadata": {
        "colab": {
          "base_uri": "https://localhost:8080/"
        },
        "id": "EbC541OSfcqR",
        "outputId": "f6dbdf74-4e95-443e-eec1-629ee7ebe725"
      },
      "source": [
        "#Recursion\n",
        "\n",
        "def tri_recursion(k):\n",
        "  if(k > 0):\n",
        "    result = k + tri_recursion(k - 1)\n",
        "    print(result)\n",
        "  else:\n",
        "    result = 0\n",
        "  return result\n",
        "\n",
        "print(\"\\n\\nRecursion Example Results\")\n",
        "tri_recursion(6)"
      ],
      "execution_count": null,
      "outputs": [
        {
          "output_type": "stream",
          "text": [
            "\n",
            "\n",
            "Recursion Example Results\n",
            "1\n",
            "3\n",
            "6\n",
            "10\n",
            "15\n",
            "21\n"
          ],
          "name": "stdout"
        },
        {
          "output_type": "execute_result",
          "data": {
            "text/plain": [
              "21"
            ]
          },
          "metadata": {
            "tags": []
          },
          "execution_count": 36
        }
      ]
    },
    {
      "cell_type": "code",
      "metadata": {
        "colab": {
          "base_uri": "https://localhost:8080/"
        },
        "id": "xE3LY-8Qfcte",
        "outputId": "4847f2cf-ea53-42fa-e4a3-af6084947b50"
      },
      "source": [
        "#Recursion function\n",
        "def recur_fact(n):\n",
        "  if n==1:\n",
        "    return 1\n",
        "  else:\n",
        "    return (n)*recur_fact(n-1)\n",
        "num=4\n",
        "if num<0:\n",
        "  print('Does not exist for -ve numbers')\n",
        "elif num==0:\n",
        "  print('The factorial of 0 is 1')\n",
        "else:\n",
        "  print('The factorial of:',num,'is',recur_fact(num))  \n"
      ],
      "execution_count": null,
      "outputs": [
        {
          "output_type": "stream",
          "text": [
            "The factorial of: 4 is 24\n"
          ],
          "name": "stdout"
        }
      ]
    },
    {
      "cell_type": "code",
      "metadata": {
        "colab": {
          "base_uri": "https://localhost:8080/"
        },
        "id": "2AncPD_ivQv9",
        "outputId": "7eda98d6-2067-4905-f30b-32a181518a90"
      },
      "source": [
        "#lambda_Function\n",
        "x=lambda a:a+10\n",
        "print(x(5))\n",
        "\n",
        "x=lambda a,b:a*b\n",
        "print(x(5,6))\n",
        "\n",
        "x = lambda a, b, c : a + b + c\n",
        "print(x(5, 6, 2))\n",
        "\n",
        "def myfunc(n):\n",
        "  return lambda a : a * n\n",
        "mydoubler = myfunc(2)\n",
        "print(mydoubler(11))\n"
      ],
      "execution_count": null,
      "outputs": [
        {
          "output_type": "stream",
          "text": [
            "15\n",
            "30\n",
            "13\n",
            "22\n"
          ],
          "name": "stdout"
        }
      ]
    },
    {
      "cell_type": "code",
      "metadata": {
        "colab": {
          "base_uri": "https://localhost:8080/"
        },
        "id": "89SR1mFrvQ4O",
        "outputId": "1a6d33b2-9c01-4e17-9d08-1f3373ae6daf"
      },
      "source": [
        "#User defined function\n",
        "\n",
        "def add_numbers(x,y):\n",
        "  sum=x + y\n",
        "  return sum\n",
        "num1=33\n",
        "num2=60\n",
        "print(\"The Sum is\",add_numbers(num1,num2))  "
      ],
      "execution_count": null,
      "outputs": [
        {
          "output_type": "stream",
          "text": [
            "The Sum is 93\n"
          ],
          "name": "stdout"
        }
      ]
    },
    {
      "cell_type": "code",
      "metadata": {
        "colab": {
          "base_uri": "https://localhost:8080/"
        },
        "id": "7JCZ9sYVvQ_v",
        "outputId": "4b36c80c-4d64-48f5-be16-4c2b7f1a63c9"
      },
      "source": [
        "#OOPS\n",
        "\n",
        "class employee():\n",
        "  def __init__(self, Name, Age, Id, salary):\n",
        "    self.Name=Name\n",
        "    self.Age=Age\n",
        "    self.Id=Id\n",
        "    self.salary=salary\n",
        "\n",
        "emp1=employee(\"Dayanand\",23,1234,350000)  \n",
        "emp2=employee(\"Daya\",23,1334,360000)  \n",
        "emp3=employee(\"Ram\",24,1235,370000)  \n",
        "print(emp2.__init__)"
      ],
      "execution_count": null,
      "outputs": [
        {
          "output_type": "stream",
          "text": [
            "<bound method employee.__init__ of <__main__.employee object at 0x7fc2e990d2d0>>\n"
          ],
          "name": "stdout"
        }
      ]
    },
    {
      "cell_type": "code",
      "metadata": {
        "colab": {
          "base_uri": "https://localhost:8080/"
        },
        "id": "zA3deARDGOE-",
        "outputId": "e001a633-4e9a-45a2-b3d7-d35c6ad722bf"
      },
      "source": [
        "#Inheritance\n",
        "\n",
        "class Person:\n",
        "  def __init__(self, fname, lname):\n",
        "    self.firstname = fname\n",
        "    self.lastname = lname\n",
        "\n",
        "  def printname(self):\n",
        "    print(self.firstname, self.lastname)\n",
        "\n",
        "x = Person(\"Daya\", \"Reddy\")\n",
        "x.printname()"
      ],
      "execution_count": null,
      "outputs": [
        {
          "output_type": "stream",
          "text": [
            "Daya Reddy\n"
          ],
          "name": "stdout"
        }
      ]
    },
    {
      "cell_type": "code",
      "metadata": {
        "colab": {
          "base_uri": "https://localhost:8080/"
        },
        "id": "3_TLbIZ0GON3",
        "outputId": "2686369e-f7af-4079-a02b-8655f0663dd4"
      },
      "source": [
        "#Single Level Inheritance\n",
        "class p:\n",
        "  def m1(self):\n",
        "    print(\"Parent Method\")\n",
        "class C(p):\n",
        "  def m2(self):\n",
        "    print(\"Child Method\")\n",
        "c=C()\n",
        "c.m1()\n",
        "c.m2()        "
      ],
      "execution_count": null,
      "outputs": [
        {
          "output_type": "stream",
          "text": [
            "Parent Method\n",
            "Child Method\n"
          ],
          "name": "stdout"
        }
      ]
    },
    {
      "cell_type": "code",
      "metadata": {
        "colab": {
          "base_uri": "https://localhost:8080/"
        },
        "id": "WoPWZonkYcPG",
        "outputId": "f2afbf9f-6032-4ac6-c588-31db266dc266"
      },
      "source": [
        "#Single Level Inheritance Example2\n",
        "class employee1():\n",
        "  def __init__(self, Name, Age, Id, salary):\n",
        "    self.Name=Name\n",
        "    self.Age=Age\n",
        "    self.Id=Id\n",
        "    self.salary=salary\n",
        "\n",
        "class childemployee1(employee1):\n",
        "  def __init__(self, Name, Age, salary, Id):\n",
        "    self.Name=Name\n",
        "    self.Age=Age\n",
        "    self.salary=salary \n",
        "    self.Id=Id   \n",
        "\n",
        "emp1=employee(\"Dayanand\",23,1234,350000)  \n",
        "emp2=employee(\"Daya\",23,1334,360000)  \n",
        "emp3=employee(\"Ram\",24,1235,370000)  \n",
        "print(emp1.salary)"
      ],
      "execution_count": null,
      "outputs": [
        {
          "output_type": "stream",
          "text": [
            "350000\n"
          ],
          "name": "stdout"
        }
      ]
    },
    {
      "cell_type": "code",
      "metadata": {
        "colab": {
          "base_uri": "https://localhost:8080/"
        },
        "id": "w_1wvvCOGOPa",
        "outputId": "9b0ff3f9-c628-46f3-ee6f-ac77f91f6c26"
      },
      "source": [
        "#Multi Level Inheritance\n",
        "class p:\n",
        "  def m1(self):\n",
        "    print(\"Parent Method\")\n",
        "class C(p):\n",
        "  def m2(self):\n",
        "    print(\"Child Method\")\n",
        "class CC(C):\n",
        "  def m3(self):\n",
        "    print(\"Sub Child Method\")    \n",
        "c=CC()\n",
        "c.m1()\n",
        "c.m2()  \n",
        "c.m3()"
      ],
      "execution_count": null,
      "outputs": [
        {
          "output_type": "stream",
          "text": [
            "Parent Method\n",
            "Child Method\n",
            "Sub Child Method\n"
          ],
          "name": "stdout"
        }
      ]
    },
    {
      "cell_type": "code",
      "metadata": {
        "colab": {
          "base_uri": "https://localhost:8080/"
        },
        "id": "QUKsRnanZ4ZD",
        "outputId": "75f4c667-90ca-4a18-eb9d-8506c727fa1e"
      },
      "source": [
        "#Multilevel Inheritance Example2\n",
        "class employee1():\n",
        "  def __init__(self, Name, Age, Id, salary):\n",
        "    self.Name=Name\n",
        "    self.Age=Age\n",
        "    self.Id=Id\n",
        "    self.salary=salary\n",
        "\n",
        "class childemployee1(employee1):\n",
        "  def __init__(self, Name, Age, salary, Id):\n",
        "    self.Name=Name\n",
        "    self.Age=Age\n",
        "    self.salary=salary \n",
        "    self.Id=Id \n",
        "\n",
        "class childchildemployee1(childemployee1):\n",
        "  def __init__(self, Name, salary, Id, Age):\n",
        "    self.Name=Name\n",
        "    self.salary=salary \n",
        "    self.Id=Id  \n",
        "    self.Age=Age     \n",
        "\n",
        "emp1=childemployee1(\"Dayanand\",350000, 1223,34)  \n",
        "emp2=employee1(\"Daya\",23,1334,360000)  \n",
        "emp3=employee1(\"Ram\",24,1235,370000)  \n",
        "print(emp1.Age)"
      ],
      "execution_count": null,
      "outputs": [
        {
          "output_type": "stream",
          "text": [
            "350000\n"
          ],
          "name": "stdout"
        }
      ]
    },
    {
      "cell_type": "code",
      "metadata": {
        "colab": {
          "base_uri": "https://localhost:8080/"
        },
        "id": "1-x6sWB1GOR1",
        "outputId": "871b1baf-9d2a-4815-8f8a-afccc322bfa5"
      },
      "source": [
        "#Hierarchical Inheritance\n",
        "class p:\n",
        "  def m1(self):\n",
        "    print(\"Parent Method\")\n",
        "class C1(p):\n",
        "  def m2(self):\n",
        "    print(\"Child1 Method\")\n",
        "class C2(p):\n",
        "  def m3(self):\n",
        "    print(\"Child2 Method\")    \n",
        "c1=C1()\n",
        "c1.m1()\n",
        "c1.m2()\n",
        "c2=C2()\n",
        "c2.m1()\n",
        "c2.m3()  "
      ],
      "execution_count": null,
      "outputs": [
        {
          "output_type": "stream",
          "text": [
            "Parent Method\n",
            "Child1 Method\n",
            "Parent Method\n",
            "Child2 Method\n"
          ],
          "name": "stdout"
        }
      ]
    },
    {
      "cell_type": "code",
      "metadata": {
        "id": "xGTt3J0dGOWm",
        "colab": {
          "base_uri": "https://localhost:8080/"
        },
        "outputId": "3d1683c7-4cea-480f-a2ae-419b9bfc36ae"
      },
      "source": [
        "#Multiple Inheritance\n",
        "class P1:\n",
        "  def m1(self):\n",
        "    print(\"Parent1 Method\")\n",
        "class P2:\n",
        "  def m2(self):\n",
        "    print(\"Parent2 Method\")\n",
        "class C(P1,P2):\n",
        "  def m3(self):\n",
        "    print(\"Child2 Method\")\n",
        "\n",
        "c=C()\n",
        "c.m1()\n",
        "c.m2()\n",
        "c.m3()\n",
        "            "
      ],
      "execution_count": null,
      "outputs": [
        {
          "output_type": "stream",
          "text": [
            "Parent1 Method\n",
            "Parent2 Method\n",
            "Child2 Method\n"
          ],
          "name": "stdout"
        }
      ]
    },
    {
      "cell_type": "code",
      "metadata": {
        "id": "Bs37zNBDGOYT",
        "colab": {
          "base_uri": "https://localhost:8080/"
        },
        "outputId": "d4834730-f1e1-45fa-acb3-ac2cec90c443"
      },
      "source": [
        "#Multiple Inheritance_Example2\n",
        "class P1:\n",
        "  def m1(self):\n",
        "    print(\"Parent1 Method\")\n",
        "class P2:\n",
        "  def m1(self):\n",
        "    print(\"Parent2 Method\")\n",
        "class C(P1,P2):\n",
        "  def m2(self):\n",
        "    print(\"Child Method\")\n",
        "\n",
        "c=C()\n",
        "c.m1()\n",
        "c.m2()"
      ],
      "execution_count": null,
      "outputs": [
        {
          "output_type": "stream",
          "text": [
            "Parent1 Method\n",
            "Child Method\n"
          ],
          "name": "stdout"
        }
      ]
    },
    {
      "cell_type": "code",
      "metadata": {
        "id": "hr8cbyTTvRJM",
        "colab": {
          "base_uri": "https://localhost:8080/",
          "height": 352
        },
        "outputId": "47523481-b6a6-470e-b522-f19ee43cc9d4"
      },
      "source": [
        "#Polymorphism\n",
        "#1_Complile time polymorphism Method Overloading\n",
        "\n",
        "\n",
        "class employee1:\n",
        "  def name(self):\n",
        "    print(\"Harshit is his name\")\n",
        "  def salary(self):\n",
        "    print(\"31000 his  salary\")\n",
        "  def age(self):\n",
        "    print(\"23 his age\")  \n",
        "\n",
        "\n",
        "class employee2:\n",
        "  def name(self):\n",
        "    print(\"Harsha is her name\")\n",
        "  def salary(self):\n",
        "    print(\"34000 her  salary\")\n",
        "  def age(self):\n",
        "    print(\"26 her age\")\n",
        "\n",
        "\n",
        "def func(obj):\n",
        "  obj.name()\n",
        "  obj.salary()\n",
        "  obj.age()\n",
        "\n",
        "obj_emp1=employee1\n",
        "obj_emp2=employee2\n",
        "\n",
        "func(obj_emp1)\n",
        "func(obj_emp2)\n",
        "\n"
      ],
      "execution_count": null,
      "outputs": [
        {
          "output_type": "error",
          "ename": "TypeError",
          "evalue": "ignored",
          "traceback": [
            "\u001b[0;31m---------------------------------------------------------------------------\u001b[0m",
            "\u001b[0;31mTypeError\u001b[0m                                 Traceback (most recent call last)",
            "\u001b[0;32m<ipython-input-13-eb2735dc48cd>\u001b[0m in \u001b[0;36m<module>\u001b[0;34m()\u001b[0m\n\u001b[1;32m     29\u001b[0m \u001b[0mobj_emp2\u001b[0m\u001b[0;34m=\u001b[0m\u001b[0memployee2\u001b[0m\u001b[0;34m\u001b[0m\u001b[0;34m\u001b[0m\u001b[0m\n\u001b[1;32m     30\u001b[0m \u001b[0;34m\u001b[0m\u001b[0m\n\u001b[0;32m---> 31\u001b[0;31m \u001b[0mfunc\u001b[0m\u001b[0;34m(\u001b[0m\u001b[0mobj_emp1\u001b[0m\u001b[0;34m)\u001b[0m\u001b[0;34m\u001b[0m\u001b[0;34m\u001b[0m\u001b[0m\n\u001b[0m\u001b[1;32m     32\u001b[0m \u001b[0mfunc\u001b[0m\u001b[0;34m(\u001b[0m\u001b[0mobj_emp2\u001b[0m\u001b[0;34m)\u001b[0m\u001b[0;34m\u001b[0m\u001b[0;34m\u001b[0m\u001b[0m\n\u001b[1;32m     33\u001b[0m \u001b[0;34m\u001b[0m\u001b[0m\n",
            "\u001b[0;32m<ipython-input-13-eb2735dc48cd>\u001b[0m in \u001b[0;36mfunc\u001b[0;34m(obj)\u001b[0m\n\u001b[1;32m     22\u001b[0m \u001b[0;34m\u001b[0m\u001b[0m\n\u001b[1;32m     23\u001b[0m \u001b[0;32mdef\u001b[0m \u001b[0mfunc\u001b[0m\u001b[0;34m(\u001b[0m\u001b[0mobj\u001b[0m\u001b[0;34m)\u001b[0m\u001b[0;34m:\u001b[0m\u001b[0;34m\u001b[0m\u001b[0;34m\u001b[0m\u001b[0m\n\u001b[0;32m---> 24\u001b[0;31m   \u001b[0mobj\u001b[0m\u001b[0;34m.\u001b[0m\u001b[0mname\u001b[0m\u001b[0;34m(\u001b[0m \u001b[0;34m)\u001b[0m\u001b[0;34m\u001b[0m\u001b[0;34m\u001b[0m\u001b[0m\n\u001b[0m\u001b[1;32m     25\u001b[0m   \u001b[0mobj\u001b[0m\u001b[0;34m.\u001b[0m\u001b[0msalary\u001b[0m\u001b[0;34m(\u001b[0m\u001b[0;34m)\u001b[0m\u001b[0;34m\u001b[0m\u001b[0;34m\u001b[0m\u001b[0m\n\u001b[1;32m     26\u001b[0m   \u001b[0mobj\u001b[0m\u001b[0;34m.\u001b[0m\u001b[0mage\u001b[0m\u001b[0;34m(\u001b[0m\u001b[0;34m)\u001b[0m\u001b[0;34m\u001b[0m\u001b[0;34m\u001b[0m\u001b[0m\n",
            "\u001b[0;31mTypeError\u001b[0m: name() missing 1 required positional argument: 'self'"
          ]
        }
      ]
    },
    {
      "cell_type": "code",
      "metadata": {
        "colab": {
          "base_uri": "https://localhost:8080/"
        },
        "id": "afI8FNkxy7p7",
        "outputId": "a8dfefeb-c41b-4828-d234-1b6e53306735"
      },
      "source": [
        "#Polymorphism example:\n",
        "#run-time poly:\n",
        "\n",
        "class employee():\n",
        "  def __init__(self,name,age,id,salary):\n",
        "    self.name = name\n",
        "    self.age = age\n",
        "    self.salary = salary\n",
        "    self.id = id\n",
        "def earn(self):\n",
        "  pass\n",
        "class childemployee1(employee):\n",
        "  def earn(self):\n",
        "    print(\"no money\")\n",
        "class childemployee2(employee):\n",
        "  def earn(self):\n",
        "    print(\"has money\")\n",
        "c = childemployee1\n",
        "c.earn(employee)\n",
        "d = childemployee2\n",
        "d.earn(employee)"
      ],
      "execution_count": null,
      "outputs": [
        {
          "output_type": "stream",
          "text": [
            "no money\n",
            "has money\n"
          ],
          "name": "stdout"
        }
      ]
    },
    {
      "cell_type": "code",
      "metadata": {
        "id": "DO9xlACy0_Yu"
      },
      "source": [
        "#Compile-time Poly:\n",
        "class employee1():\n",
        "  def name(self):\n",
        "    print(\"Harshit is his name\")\n",
        "  def salary(self):\n",
        "    print(\"3000 is his salary\")\n",
        "  def age(self):\n",
        "    print(\"22 is his age\")\n",
        "class employee2():\n",
        "  def name(self):\n",
        "    print(\"Rahul is his name\")\n",
        "  def salary(self):\n",
        "    print(\"4000 is his salary\")\n",
        "  def age(self):\n",
        "    print(\"23 is his age\")\n",
        "  def func(obj):\n",
        "    obj.name()\n",
        "    obj.salary()\n",
        "    obj.age()\n",
        "    obj_emp1 = employee1()\n",
        "    obj_emp2 = employee2()\n",
        "    func(obj_emp1)\n",
        "    func(obj_emp2)"
      ],
      "execution_count": null,
      "outputs": []
    },
    {
      "cell_type": "code",
      "metadata": {
        "colab": {
          "base_uri": "https://localhost:8080/"
        },
        "id": "9zjYY_vFYDJ8",
        "outputId": "66a00db5-63c1-4627-a56e-399709f683ee"
      },
      "source": [
        "class Bird:\n",
        "  def intro(self):\n",
        "    print(\"There are many types of birds.\")\n",
        "      \n",
        "  def flight(self):\n",
        "    print(\"Most of the birds can fly but some cannot.\")\n",
        "    \n",
        "class sparrow(Bird):\n",
        "  def flight(self):\n",
        "    print(\"Sparrows can fly.\")\n",
        "      \n",
        "class ostrich(Bird):\n",
        "  def flight(self):\n",
        "    print(\"Ostriches cannot fly.\")\n",
        "      \n",
        "obj_bird = Bird()\n",
        "obj_spr = sparrow()\n",
        "obj_ost = ostrich()\n",
        "  \n",
        "obj_bird.intro()\n",
        "obj_bird.flight()\n",
        "  \n",
        "obj_spr.intro()\n",
        "obj_spr.flight()\n",
        "  \n",
        "obj_ost.intro()\n",
        "obj_ost.flight()  "
      ],
      "execution_count": null,
      "outputs": [
        {
          "output_type": "stream",
          "text": [
            "There are many types of birds.\n",
            "Most of the birds can fly but some cannot.\n",
            "There are many types of birds.\n",
            "Sparrows can fly.\n",
            "There are many types of birds.\n",
            "Ostriches cannot fly.\n"
          ],
          "name": "stdout"
        }
      ]
    },
    {
      "cell_type": "code",
      "metadata": {
        "colab": {
          "base_uri": "https://localhost:8080/"
        },
        "id": "HcmlvQXIYDOB",
        "outputId": "27d79045-210d-4752-bfc7-45d023af0c06"
      },
      "source": [
        "class India():\n",
        "    def capital(self):\n",
        "        print(\"New Delhi is the capital of India.\")\n",
        "   \n",
        "    def language(self):\n",
        "        print(\"Hindi is the most widely spoken language of India.\")\n",
        "   \n",
        "    def type(self):\n",
        "        print(\"India is a developing country.\")\n",
        "   \n",
        "class USA():\n",
        "    def capital(self):\n",
        "        print(\"Washington, D.C. is the capital of USA.\")\n",
        "   \n",
        "    def language(self):\n",
        "        print(\"English is the primary language of USA.\")\n",
        "   \n",
        "    def type(self):\n",
        "        print(\"USA is a developed country.\")\n",
        "  \n",
        "def func(obj):\n",
        "    obj.capital()\n",
        "    obj.language()\n",
        "    obj.type()\n",
        "   \n",
        "obj_ind = India()\n",
        "obj_usa = USA()\n",
        "   \n",
        "func(obj_ind)\n",
        "func(obj_usa)"
      ],
      "execution_count": null,
      "outputs": [
        {
          "output_type": "stream",
          "text": [
            "New Delhi is the capital of India.\n",
            "Hindi is the most widely spoken language of India.\n",
            "India is a developing country.\n",
            "Washington, D.C. is the capital of USA.\n",
            "English is the primary language of USA.\n",
            "USA is a developed country.\n"
          ],
          "name": "stdout"
        }
      ]
    },
    {
      "cell_type": "code",
      "metadata": {
        "colab": {
          "base_uri": "https://localhost:8080/"
        },
        "id": "814wQ1yuYDXb",
        "outputId": "1684d4e6-141a-448c-87ef-b92140036897"
      },
      "source": [
        "# length of string\n",
        "x = len('Daya')\n",
        "print(x)\n",
        " \n",
        "# length of list\n",
        "y = len([1, 2, 3, 4])\n",
        "print(y)"
      ],
      "execution_count": null,
      "outputs": [
        {
          "output_type": "stream",
          "text": [
            "4\n",
            "4\n"
          ],
          "name": "stdout"
        }
      ]
    },
    {
      "cell_type": "code",
      "metadata": {
        "colab": {
          "base_uri": "https://localhost:8080/"
        },
        "id": "XsJ5HsylYDbE",
        "outputId": "459ce829-04ec-4653-f1ff-6998d75ff60e"
      },
      "source": [
        "#Method Overloading\n",
        "class GFG:\n",
        "    def sum(self, a = None, b = None, c = None):        \n",
        "        s = 0\n",
        "        if a != None and b != None and c != None:\n",
        "            s = a + b + c\n",
        "        elif a != None and b != None:\n",
        "            s = a + b\n",
        "        else:\n",
        "            s = a\n",
        "        return s\n",
        "       \n",
        "s = GFG()\n",
        " \n",
        "# sum of 1 integer\n",
        "print(s.sum(1))\n",
        " \n",
        "# sum of 2 integers\n",
        "print(s.sum(3, 5))\n",
        " \n",
        "# sum of 3 integers\n",
        "print(s.sum(1, 2, 3))"
      ],
      "execution_count": null,
      "outputs": [
        {
          "output_type": "stream",
          "text": [
            "1\n",
            "8\n",
            "6\n"
          ],
          "name": "stdout"
        }
      ]
    },
    {
      "cell_type": "code",
      "metadata": {
        "colab": {
          "base_uri": "https://localhost:8080/"
        },
        "id": "4YUsek29i5gk",
        "outputId": "8135d82c-3451-4037-9592-8151aebb65a7"
      },
      "source": [
        "#Example2:\n",
        "class Student:\n",
        "   \n",
        "    # defining init method for class\n",
        "    def __init__(self, m1, m2):\n",
        "        self.m1 = m1\n",
        "        self.m2 = m2\n",
        " \n",
        "    # overloading the + operator\n",
        "    def __add__(self, other):\n",
        "        m1 = self.m1 + other.m1\n",
        "        m2 = self.m2 + other.m2\n",
        "        s3 = Student(m1, m2)\n",
        "        return s3\n",
        " \n",
        "s1 = Student(58, 59)\n",
        "s2 = Student(60, 65)\n",
        "s3 = s1 + s2\n",
        "print(s3.m1)"
      ],
      "execution_count": null,
      "outputs": [
        {
          "output_type": "stream",
          "text": [
            "118\n"
          ],
          "name": "stdout"
        }
      ]
    },
    {
      "cell_type": "code",
      "metadata": {
        "colab": {
          "base_uri": "https://localhost:8080/"
        },
        "id": "QVihxjLFYDhe",
        "outputId": "fb5d7867-df67-4e90-d77c-b5a3d3e6e9ad"
      },
      "source": [
        "#Method Overriding\n",
        "# parent class\n",
        "class Programming:\n",
        "   \n",
        "    # properties\n",
        "    DataStructures = True\n",
        "    Algorithms = True\n",
        "     \n",
        "    # function practice\n",
        "    def practice(self):\n",
        "        print(\"Practice makes a man perfect\")\n",
        "     \n",
        "    # function consistency\n",
        "    def consistency(self):\n",
        "        print(\"Hard work along with consistency can defeat Talent\")\n",
        "         \n",
        "# child class       \n",
        "class Python(Programming):\n",
        "     \n",
        "    # function\n",
        "    def consistency(self):\n",
        "        print(\"Hard work along with consistency can defeat Talent.\")\n",
        " \n",
        "Py = Python()\n",
        "Py.consistency()\n",
        "Py.practice()"
      ],
      "execution_count": null,
      "outputs": [
        {
          "output_type": "stream",
          "text": [
            "Hard work along with consistency can defeat Talent.\n",
            "Practice makes a man perfect\n"
          ],
          "name": "stdout"
        }
      ]
    },
    {
      "cell_type": "code",
      "metadata": {
        "id": "PCep_jOcYDjl"
      },
      "source": [
        "#Method Overriding Example:2\n",
        "\n",
        "class employee ():\n",
        "  def __init__(self,name, age, id, salary):\n",
        "    self.name=Name\n",
        "    self.age=age\n",
        "    self.id=id\n",
        "    self.salary=salary\n",
        "\n",
        "  def earn(self):\n",
        "    pass\n",
        "\n"
      ],
      "execution_count": null,
      "outputs": []
    },
    {
      "cell_type": "code",
      "metadata": {
        "colab": {
          "base_uri": "https://localhost:8080/"
        },
        "id": "i40-WyDwYDl1",
        "outputId": "e736244d-ff65-46b7-e570-44f5ce408b16"
      },
      "source": [
        "#Data Abstraction:\n",
        "\n",
        "class Person:\n",
        "    def __init__(self):\n",
        "        self.name = \"Daya John\"\n",
        "\n",
        "    def bio(self):\n",
        "        self.addr = \"Pune street, India\"\n",
        "        self.taxInfo = \"INDPUNE29971\"\n",
        "        self.contact = \"8805883125\"\n",
        "        print(self.addr, self.taxInfo, self.contact)\n",
        "\n",
        "    def interest(self):\n",
        "        self.favFood = \"Chicken\"\n",
        "        self.hobbies = \"Python Programming\"\n",
        "        self.bloodGroup = \"A+\"\n",
        "        print(self.favFood, self.hobbies, self.bloodGroup)\n",
        "\n",
        "obj = Person()\n",
        "print(obj.name)\n",
        "obj.bio()\n",
        "obj.interest()"
      ],
      "execution_count": null,
      "outputs": [
        {
          "output_type": "stream",
          "text": [
            "Daya John\n",
            "Pune street, India INDPUNE29971 8805883125\n",
            "Chicken Python Programming A+\n"
          ],
          "name": "stdout"
        }
      ]
    },
    {
      "cell_type": "code",
      "metadata": {
        "colab": {
          "base_uri": "https://localhost:8080/"
        },
        "id": "ITW4CoshYDpH",
        "outputId": "df4c4e1f-ac03-402c-89e1-35dcebc3df4e"
      },
      "source": [
        "#Encapsulation\n",
        "class Mobile:\n",
        "    def __init__(self, brand, model, price):\n",
        "        self.brand = brand\n",
        "        self.model = model\n",
        "        self.price = price\n",
        "        \n",
        "    def call(self, number):\n",
        "        print(\"calling to \"+str(number))\n",
        "        \n",
        "    def main(self):\n",
        "        return self.brand+\" \"+str(self.price)\n",
        "        \n",
        "obj = Mobile(\"Cell\",1100,26360)\n",
        "obj.call(8805883125)\n",
        "print(obj.main())"
      ],
      "execution_count": null,
      "outputs": [
        {
          "output_type": "stream",
          "text": [
            "calling to 8805883125\n",
            "Cell 26360\n"
          ],
          "name": "stdout"
        }
      ]
    },
    {
      "cell_type": "code",
      "metadata": {
        "colab": {
          "base_uri": "https://localhost:8080/"
        },
        "id": "JlJOb-wGYDsd",
        "outputId": "a9ce2166-2cdf-4aac-edd5-1ccd28647a5d"
      },
      "source": [
        "#Example2\n",
        "# Python program to\n",
        "# demonstrate protected members\n",
        " \n",
        " \n",
        "# Creating a base class\n",
        "class Base:\n",
        "    def __init__(self):\n",
        "         \n",
        "        # Protected member\n",
        "        self._a = 2\n",
        " \n",
        "# Creating a derived class   \n",
        "class Derived(Base):\n",
        "    def __init__(self):\n",
        "         \n",
        "        # Calling constructor of\n",
        "        # Base class\n",
        "        Base.__init__(self)\n",
        "        print(\"Calling protected member of base class: \")\n",
        "        print(self._a)\n",
        " \n",
        "obj1 = Derived()\n",
        "obj2 = Base()\n",
        " \n",
        "# Calling protected member\n",
        "# Outside class will  result in\n",
        "# AttributeError\n",
        "print(obj2._a)\n",
        "print(obj1._a)"
      ],
      "execution_count": null,
      "outputs": [
        {
          "output_type": "stream",
          "text": [
            "Calling protected member of base class: \n",
            "2\n",
            "2\n",
            "2\n"
          ],
          "name": "stdout"
        }
      ]
    },
    {
      "cell_type": "code",
      "metadata": {
        "id": "YBT4UeQjCK0s",
        "colab": {
          "base_uri": "https://localhost:8080/"
        },
        "outputId": "6a60ff4d-2ef9-4fde-92e2-3d945226d52d"
      },
      "source": [
        "#Encapsulation: Example3\n",
        "class employee():\n",
        "  def __init__(self):\n",
        "    self.__maxearn = 1000000\n",
        "  def earn(self):\n",
        "    print(\"earning is:{}\".format(self.__maxearn))\n",
        "  def setmaxearn(self,earn):\n",
        "    self.__maxearn = earn\n",
        "    \n",
        "    #setter method used for accesing private class \n",
        "  \n",
        "emp1 = employee()\n",
        "emp1.earn()\n",
        "emp1.__maxearn = 10000\n",
        "emp1.earn()\n",
        "emp1.setmaxearn(10000)\n",
        "emp1.earn()\n",
        "\n",
        "\n"
      ],
      "execution_count": null,
      "outputs": [
        {
          "output_type": "stream",
          "text": [
            "earning is:1000000\n",
            "earning is:1000000\n",
            "earning is:10000\n"
          ],
          "name": "stdout"
        }
      ]
    },
    {
      "cell_type": "code",
      "metadata": {
        "id": "nZPseVizvRNL",
        "colab": {
          "base_uri": "https://localhost:8080/"
        },
        "outputId": "0bebfa7a-b358-48a6-8d04-23c78a17f406"
      },
      "source": [
        "#While_loop:\n",
        "\n",
        "i = 1\n",
        "while i < 6:\n",
        "  print(i)\n",
        "  i += 1"
      ],
      "execution_count": null,
      "outputs": [
        {
          "output_type": "stream",
          "text": [
            "1\n",
            "2\n",
            "3\n",
            "4\n",
            "5\n"
          ],
          "name": "stdout"
        }
      ]
    },
    {
      "cell_type": "code",
      "metadata": {
        "colab": {
          "base_uri": "https://localhost:8080/"
        },
        "id": "2Pc_N8jM15gD",
        "outputId": "52f5c644-923c-4e19-cbdb-63cd703a8e30"
      },
      "source": [
        "#Nested if\n",
        "x = 41\n",
        "\n",
        "if x > 10:\n",
        "  print(\"Above ten,\")\n",
        "  if x > 20:\n",
        "    print(\"and also above 20!\")\n",
        "  else:\n",
        "    print(\"but not above 20.\")"
      ],
      "execution_count": null,
      "outputs": [
        {
          "output_type": "stream",
          "text": [
            "Above ten,\n",
            "and also above 20!\n"
          ],
          "name": "stdout"
        }
      ]
    },
    {
      "cell_type": "code",
      "metadata": {
        "colab": {
          "base_uri": "https://localhost:8080/"
        },
        "id": "oSkJRBmO15se",
        "outputId": "dd4b557e-2a8d-47ef-ea75-a48dea7b7f8d"
      },
      "source": [
        "#Short Hand if else\n",
        "a = 2\n",
        "b = 330\n",
        "print(\"A\") if a > b else print(\"B\")"
      ],
      "execution_count": null,
      "outputs": [
        {
          "output_type": "stream",
          "text": [
            "B\n"
          ],
          "name": "stdout"
        }
      ]
    },
    {
      "cell_type": "code",
      "metadata": {
        "colab": {
          "base_uri": "https://localhost:8080/"
        },
        "id": "mXW0DQ8a15wN",
        "outputId": "a8458381-b75e-45ce-ffcc-fda73850bf56"
      },
      "source": [
        "#Data Manipulatuion\n",
        "\n",
        "f=open(\"/content/sample_data/california_housing_test.csv\",\"r\")\n",
        "print(f.read)"
      ],
      "execution_count": null,
      "outputs": [
        {
          "output_type": "stream",
          "text": [
            "<built-in method read of _io.TextIOWrapper object at 0x7fb13ea85130>\n"
          ],
          "name": "stdout"
        }
      ]
    },
    {
      "cell_type": "code",
      "metadata": {
        "colab": {
          "base_uri": "https://localhost:8080/"
        },
        "id": "dJK3UIRp15z6",
        "outputId": "e97968aa-40c7-49ba-a334-6a7aace04f43"
      },
      "source": [
        "f=open(\"/content/sample_data/california_housing_train.csv\",\"r\")\n",
        "#print(f.read)\n",
        "print(f.readline())\n",
        "print(f.readline())\n",
        "print(f.readline())"
      ],
      "execution_count": null,
      "outputs": [
        {
          "output_type": "stream",
          "text": [
            "\"longitude\",\"latitude\",\"housing_median_age\",\"total_rooms\",\"total_bedrooms\",\"population\",\"households\",\"median_income\",\"median_house_value\"\n",
            "\n",
            "-114.310000,34.190000,15.000000,5612.000000,1283.000000,1015.000000,472.000000,1.493600,66900.000000\n",
            "\n",
            "-114.470000,34.400000,19.000000,7650.000000,1901.000000,1129.000000,463.000000,1.820000,80100.000000\n",
            "\n"
          ],
          "name": "stdout"
        }
      ]
    },
    {
      "cell_type": "code",
      "metadata": {
        "id": "ArzwueaE153I"
      },
      "source": [
        "Naming conventions\n",
        "--variable:-\n",
        "age=27\n",
        "Employee_age=27\n",
        "\n",
        "--Functions:-\n",
        "def add():\n",
        "  pass\n",
        "\n",
        "def calculate_addition():\n",
        "  pass\n",
        "\n",
        "--class:-\n",
        "class FirstTimeExecution:\n",
        "  pass\n",
        "\n",
        "--methods:-\n",
        "class PartTimeEmployee:\n",
        "  def partial_salary(self):\n",
        "    pass\n",
        "\n",
        "--constants:-\n",
        "PI=3.142\n",
        "CONSTANT_PI=3.142\n",
        "\n",
        "--Module-use a short, lowercase words and words seperated by underscore\n",
        "module.py\n",
        "module_file.py\n",
        "\n",
        "Packages:-use a short, lowercase and donot seperate words by underscore\n",
        "newpackage"
      ],
      "execution_count": null,
      "outputs": []
    },
    {
      "cell_type": "code",
      "metadata": {
        "id": "WGf4hYME156X"
      },
      "source": [
        "Indentation:-4 spaces\n",
        "Indentaion:-\n",
        "\n",
        "\n",
        "\n",
        "age = 18\n",
        " if age>=18:\n",
        "   \n",
        "  print(\"eligible to vote\")\n",
        "else:\n",
        "  print(\"not eligible to vote\")\n",
        "\n",
        "Line Break:--79 characters\n",
        " def add(int_arg, float_arg, \n",
        "         string_arg, bool_arg,\n",
        "         abc_arg, bgbb_arg):\n",
        "   pass\n",
        "\n",
        " Hanging Indents:-\n",
        " def add(int_arg, float_arg, \n",
        "         string_arg, bool_arg,\n",
        "         abc_arg, bgbb_arg):\n",
        "   pass\n",
        "\n",
        "\n",
        "\n",
        "\n",
        "   Code Layout:-\n",
        "two blank lines:-\n",
        " class Car(ABC):\n",
        "  def milage(self):\n",
        "    pass\n",
        "\n",
        "    \n",
        " class Tesla(Car):\n",
        "  def milage(self):\n",
        "    print(\"The milage is 30kmph\")\n",
        "\n",
        "  def calculte_addition():\n",
        "    pass\n",
        "\n",
        " single blank line:-\n",
        " class FullTimeEmployee:\n",
        "   def monthly_salary(self):\n",
        "     pass\n",
        "\n",
        "  def yearly_bonus(self):\n",
        "    pass\n",
        "\n",
        " clear step :- \n",
        "  \n",
        " emp1 = employee()\n",
        "emp1.earn()\n",
        "\n",
        "emp1.__maxearn = 100000\n",
        "emp1.earn()\n",
        "\n",
        "emp1.setmaxearn(10000)\n",
        "emp1.earn()\n",
        "\n",
        "Return\n",
        "\n",
        "\n",
        "#Comments:-\n",
        "#Block comments:-\n",
        "for x in range(0,10):\n",
        "    # sjdasldkjsadlksjdlskjd\n",
        "    # ljkjskjsdkjsdksjdskdjskd\n",
        "    # s;ldks;ldskdlskd;lsdksl;dks;ldk\n",
        "  print(x)\n",
        "\n",
        "  class Employee():\n",
        "    # jsalkdjsladkjsldkj\n",
        "    # kjsdlskjdsldkjslkdj\n",
        "    # dkjslsdjsdkdkjkdjsk\n",
        "\n",
        "Inline comment:-\n",
        "age = = 10  # kids age\n",
        "name = 'Abdul Kalam'    # Great scientist\n",
        "\n",
        "*Documentation comment:\n",
        "def calculate_addition():\n",
        "  '''\n",
        "  here am commenting\n",
        "  line1 \n",
        "  line2\n",
        "  line3\n",
        "  '''\n",
        "  print(calculate_addition.__doc__)#magical or dundered variable"
      ],
      "execution_count": null,
      "outputs": []
    },
    {
      "cell_type": "code",
      "metadata": {
        "id": "8P2wTEgzFRyx"
      },
      "source": [
        "\n",
        "class MyClass:\n",
        "    \"\"\"A simple example class\"\"\"\n",
        "    i = 12345\n",
        "\n",
        "    def f(self):\n",
        "        return 'hello world'"
      ],
      "execution_count": null,
      "outputs": []
    },
    {
      "cell_type": "code",
      "metadata": {
        "id": "aHXf0Qu1FSB5"
      },
      "source": [
        "x = MyClass()x = MyClass()\n",
        "\n",
        "class Complex:\n",
        "...     def __init__(self, realpart, imagpart):\n",
        "...         self.r = realpart\n",
        "...         self.i = imagpart\n",
        "...\n",
        "x = Complex(3.0, -4.5)\n",
        " x.r, x.i\n",
        "(3.0, -4.5)"
      ],
      "execution_count": null,
      "outputs": []
    },
    {
      "cell_type": "code",
      "metadata": {
        "colab": {
          "base_uri": "https://localhost:8080/",
          "height": 199
        },
        "id": "-slNSMofFSS7",
        "outputId": "40f71e7a-e445-4353-9a04-6409cbf43884"
      },
      "source": [
        "#Abstraction\n",
        "# abstract_class_example\n",
        "from abc import ABC, abstractmethod\n",
        "\n",
        "\n",
        "class Test(ABC):\n",
        "\n",
        "    @abstractmethod\n",
        "    def ex(self):\n",
        "        None\n",
        "\n",
        "obj = Test()"
      ],
      "execution_count": null,
      "outputs": [
        {
          "output_type": "error",
          "ename": "TypeError",
          "evalue": "ignored",
          "traceback": [
            "\u001b[0;31m---------------------------------------------------------------------------\u001b[0m",
            "\u001b[0;31mTypeError\u001b[0m                                 Traceback (most recent call last)",
            "\u001b[0;32m<ipython-input-46-fba523c62344>\u001b[0m in \u001b[0;36m<module>\u001b[0;34m()\u001b[0m\n\u001b[1;32m     10\u001b[0m         \u001b[0;32mNone\u001b[0m\u001b[0;34m\u001b[0m\u001b[0;34m\u001b[0m\u001b[0m\n\u001b[1;32m     11\u001b[0m \u001b[0;34m\u001b[0m\u001b[0m\n\u001b[0;32m---> 12\u001b[0;31m \u001b[0mobj\u001b[0m \u001b[0;34m=\u001b[0m \u001b[0mTest\u001b[0m\u001b[0;34m(\u001b[0m\u001b[0;34m)\u001b[0m\u001b[0;34m\u001b[0m\u001b[0;34m\u001b[0m\u001b[0m\n\u001b[0m",
            "\u001b[0;31mTypeError\u001b[0m: Can't instantiate abstract class Test with abstract methods ex"
          ]
        }
      ]
    },
    {
      "cell_type": "code",
      "metadata": {
        "colab": {
          "base_uri": "https://localhost:8080/"
        },
        "id": "HKf-qnfH15-Z",
        "outputId": "4b6c6eb9-ca93-46ec-bb88-df4dd34dbbc8"
      },
      "source": [
        "class Person:\n",
        "  def __init__(self, name, age):\n",
        "    self.name = name\n",
        "    self.age = age\n",
        "\n",
        "p1 = Person(\"Daya\", 36)\n",
        "\n",
        "print(p1.name)\n",
        "print(p1.age)\n"
      ],
      "execution_count": null,
      "outputs": [
        {
          "output_type": "stream",
          "text": [
            "Daya\n",
            "36\n"
          ],
          "name": "stdout"
        }
      ]
    },
    {
      "cell_type": "code",
      "metadata": {
        "id": "eaEH84LEfmCU"
      },
      "source": [
        "#Iterator\n",
        "\n",
        "class nubers:\n",
        "  def __init__(self):\n",
        "    self.a=1\n",
        "    return self\n",
        "   def __next__(self):\n",
        "     if self.a<=10:\n",
        "       x=self.a\n",
        "       self.a+=1\n",
        "       return x\n",
        "     else:\n",
        "          \n"
      ],
      "execution_count": null,
      "outputs": []
    },
    {
      "cell_type": "code",
      "metadata": {
        "id": "eAHdBnbIfmXX",
        "colab": {
          "base_uri": "https://localhost:8080/"
        },
        "outputId": "3895d7f1-66b4-426e-9e46-7393510f834a"
      },
      "source": [
        "# Program make a simple calculator\n",
        "\n",
        "# This function adds two numbers\n",
        "def add(x, y):\n",
        "    return x + y\n",
        "\n",
        "# This function subtracts two numbers\n",
        "def subtract(x, y):\n",
        "    return x - y\n",
        "\n",
        "# This function multiplies two numbers\n",
        "def multiply(x, y):\n",
        "    return x * y\n",
        "\n",
        "# This function divides two numbers\n",
        "def divide(x, y):\n",
        "    return x / y\n",
        "\n",
        "\n",
        "print(\"Select operation.\")\n",
        "print(\"1.Add\")\n",
        "print(\"2.Subtract\")\n",
        "print(\"3.Multiply\")\n",
        "print(\"4.Divide\")\n",
        "\n",
        "while True:\n",
        "    # Take input from the user\n",
        "    choice = input(\"Enter choice(1/2/3/4): \")\n",
        "\n",
        "    # Check if choice is one of the four options\n",
        "    if choice in ('1', '2', '3', '4'):\n",
        "        num1 = float(input(\"Enter first number: \"))\n",
        "        num2 = float(input(\"Enter second number: \"))\n",
        "\n",
        "        if choice == '1':\n",
        "            print(num1, \"+\", num2, \"=\", add(num1, num2))\n",
        "\n",
        "        elif choice == '2':\n",
        "            print(num1, \"-\", num2, \"=\", subtract(num1, num2))\n",
        "\n",
        "        elif choice == '3':\n",
        "            print(num1, \"*\", num2, \"=\", multiply(num1, num2))\n",
        "\n",
        "        elif choice == '4':\n",
        "            print(num1, \"/\", num2, \"=\", divide(num1, num2))\n",
        "        break\n",
        "    else:\n",
        "        print(\"Invalid Input\")"
      ],
      "execution_count": null,
      "outputs": [
        {
          "output_type": "stream",
          "text": [
            "Select operation.\n",
            "1.Add\n",
            "2.Subtract\n",
            "3.Multiply\n",
            "4.Divide\n",
            "Enter choice(1/2/3/4): 2\n",
            "Enter first number: 10\n",
            "Enter second number: 5\n",
            "10.0 - 5.0 = 5.0\n"
          ],
          "name": "stdout"
        }
      ]
    },
    {
      "cell_type": "code",
      "metadata": {
        "id": "gh5p8nYPfmpT"
      },
      "source": [
        ""
      ],
      "execution_count": null,
      "outputs": []
    },
    {
      "cell_type": "code",
      "metadata": {
        "id": "kW5_qvLzfm8D",
        "colab": {
          "base_uri": "https://localhost:8080/"
        },
        "outputId": "6f08e81f-715d-4302-e093-eb1e5d13de00"
      },
      "source": [
        "class square:\n",
        "  def __init__(self,side):\n",
        "    self.side= side\n",
        "  def area(self):\n",
        "    return self.side**2\n",
        "  def perimeter(self):\n",
        "    return 4 * self.side   \n",
        "  def __repr__(self):\n",
        "    S='Square with side = ' + str(self.side) + '\\n' + \\\n",
        "    'Area = ' + str(self.area()) + '\\n' + \\\n",
        "    'perimeter = '+ str(self.perimeter())\n",
        "    return S\n",
        "\n",
        "if __name__=='__main__':\n",
        "  side = int(input(\"Enter the side length\"))\n",
        "  square = square(side)\n",
        "  print(square)       \n"
      ],
      "execution_count": null,
      "outputs": [
        {
          "output_type": "stream",
          "text": [
            "Enter the side length4\n",
            "Square with side = 4\n",
            "Area = 16\n",
            "perimeter = 16\n"
          ],
          "name": "stdout"
        }
      ]
    },
    {
      "cell_type": "code",
      "metadata": {
        "id": "Po6fpXAZfnO6",
        "colab": {
          "base_uri": "https://localhost:8080/",
          "height": 182
        },
        "outputId": "356e8654-b42b-42eb-dee9-849226a4e010"
      },
      "source": [
        "square=square(side)\n",
        "print(square)"
      ],
      "execution_count": null,
      "outputs": [
        {
          "output_type": "error",
          "ename": "TypeError",
          "evalue": "ignored",
          "traceback": [
            "\u001b[0;31m---------------------------------------------------------------------------\u001b[0m",
            "\u001b[0;31mTypeError\u001b[0m                                 Traceback (most recent call last)",
            "\u001b[0;32m<ipython-input-9-201741a2fddc>\u001b[0m in \u001b[0;36m<module>\u001b[0;34m()\u001b[0m\n\u001b[0;32m----> 1\u001b[0;31m \u001b[0msquare\u001b[0m\u001b[0;34m=\u001b[0m\u001b[0msquare\u001b[0m\u001b[0;34m(\u001b[0m\u001b[0mside\u001b[0m\u001b[0;34m)\u001b[0m\u001b[0;34m\u001b[0m\u001b[0;34m\u001b[0m\u001b[0m\n\u001b[0m\u001b[1;32m      2\u001b[0m \u001b[0mprint\u001b[0m\u001b[0;34m(\u001b[0m\u001b[0msquare\u001b[0m\u001b[0;34m)\u001b[0m\u001b[0;34m\u001b[0m\u001b[0;34m\u001b[0m\u001b[0m\n",
            "\u001b[0;31mTypeError\u001b[0m: 'square' object is not callable"
          ]
        }
      ]
    },
    {
      "cell_type": "code",
      "metadata": {
        "id": "0emeL_Op6_nr"
      },
      "source": [
        "def text_area (self):\n",
        "  sq=square(2)\n",
        "  self.assertEqual()\n"
      ],
      "execution_count": null,
      "outputs": []
    },
    {
      "cell_type": "code",
      "metadata": {
        "colab": {
          "base_uri": "https://localhost:8080/",
          "height": 199
        },
        "id": "j4TewEmsxRqq",
        "outputId": "0bda1792-7098-4c76-dc77-47b332a7ad16"
      },
      "source": [
        "def add(x,y):\n",
        "  return(3,2)\n",
        "  z=x+y  \n",
        "print(z)\n"
      ],
      "execution_count": null,
      "outputs": [
        {
          "output_type": "error",
          "ename": "NameError",
          "evalue": "ignored",
          "traceback": [
            "\u001b[0;31m---------------------------------------------------------------------------\u001b[0m",
            "\u001b[0;31mNameError\u001b[0m                                 Traceback (most recent call last)",
            "\u001b[0;32m<ipython-input-13-bfa1ce5ddf75>\u001b[0m in \u001b[0;36m<module>\u001b[0;34m()\u001b[0m\n\u001b[1;32m      2\u001b[0m   \u001b[0;32mreturn\u001b[0m\u001b[0;34m(\u001b[0m\u001b[0;36m3\u001b[0m\u001b[0;34m,\u001b[0m\u001b[0;36m2\u001b[0m\u001b[0;34m)\u001b[0m\u001b[0;34m\u001b[0m\u001b[0;34m\u001b[0m\u001b[0m\n\u001b[1;32m      3\u001b[0m   \u001b[0mz\u001b[0m\u001b[0;34m=\u001b[0m\u001b[0mx\u001b[0m\u001b[0;34m+\u001b[0m\u001b[0my\u001b[0m\u001b[0;34m\u001b[0m\u001b[0;34m\u001b[0m\u001b[0m\n\u001b[0;32m----> 4\u001b[0;31m \u001b[0mprint\u001b[0m\u001b[0;34m(\u001b[0m\u001b[0mz\u001b[0m\u001b[0;34m)\u001b[0m\u001b[0;34m\u001b[0m\u001b[0;34m\u001b[0m\u001b[0m\n\u001b[0m",
            "\u001b[0;31mNameError\u001b[0m: name 'z' is not defined"
          ]
        }
      ]
    },
    {
      "cell_type": "code",
      "metadata": {
        "colab": {
          "base_uri": "https://localhost:8080/",
          "height": 131
        },
        "id": "iaw8o8xsxRt_",
        "outputId": "660d1070-e0cb-41bc-9a9a-ad7e57e82141"
      },
      "source": [
        "def test_loadTestsFromTestCase_Testsuit_subclass(self):\n",
        "  class NotATestCase(unitTest.Testsuit):\n",
        "    pass\n",
        "\n",
        "  loader = unitTest TestLoader()\n",
        "  try:\n",
        "    loader.loadTestsFromTestCase(NotATestCase)\n",
        "  except TypeError:\n",
        "    pass\n",
        "  else:\n",
        "    self.fail('should raise type Error')"
      ],
      "execution_count": null,
      "outputs": [
        {
          "output_type": "error",
          "ename": "SyntaxError",
          "evalue": "ignored",
          "traceback": [
            "\u001b[0;36m  File \u001b[0;32m\"<ipython-input-14-2af8a352fcba>\"\u001b[0;36m, line \u001b[0;32m5\u001b[0m\n\u001b[0;31m    loader = unitTest TestLoader()\u001b[0m\n\u001b[0m                               ^\u001b[0m\n\u001b[0;31mSyntaxError\u001b[0m\u001b[0;31m:\u001b[0m invalid syntax\n"
          ]
        }
      ]
    },
    {
      "cell_type": "code",
      "metadata": {
        "id": "Jthn_tflxR1q"
      },
      "source": [
        "import calendar  \n",
        " #And then apply the syntax  \n",
        "#(calendar.month(yy,mm))  "
      ],
      "execution_count": null,
      "outputs": []
    },
    {
      "cell_type": "code",
      "metadata": {
        "colab": {
          "base_uri": "https://localhost:8080/"
        },
        "id": "6_N_nnp3NC0Z",
        "outputId": "c4ce96b3-ead5-44d0-8f62-d39bc6816e27"
      },
      "source": [
        "import calendar  \n",
        "# Enter the month and year  \n",
        "yy = int(input(\"Enter year: \"))  \n",
        "mm = int(input(\"Enter month: \"))  \n",
        "  \n",
        "# display the calendar  \n",
        "print(calendar.month(yy,mm))  "
      ],
      "execution_count": null,
      "outputs": [
        {
          "output_type": "stream",
          "text": [
            "Enter year: 2021\n",
            "Enter month: 4\n",
            "     April 2021\n",
            "Mo Tu We Th Fr Sa Su\n",
            "          1  2  3  4\n",
            " 5  6  7  8  9 10 11\n",
            "12 13 14 15 16 17 18\n",
            "19 20 21 22 23 24 25\n",
            "26 27 28 29 30\n",
            "\n"
          ],
          "name": "stdout"
        }
      ]
    },
    {
      "cell_type": "code",
      "metadata": {
        "id": "TjbX4DlWNb95"
      },
      "source": [
        "#Python Program to Find the Sum of Natural Numbers\n",
        "N= {0, 1, 2, 3, 4, .... and so on}  \n",
        "N= {1, 2, 3, 4, .... and so on} "
      ],
      "execution_count": null,
      "outputs": []
    },
    {
      "cell_type": "code",
      "metadata": {
        "colab": {
          "base_uri": "https://localhost:8080/"
        },
        "id": "ohdo6iPsNcPY",
        "outputId": "1126caa4-8a75-48c8-dd91-e4cc1e107816"
      },
      "source": [
        "num = int(input(\"Enter a number: \"))  \n",
        "  \n",
        "if num < 0:  \n",
        "   print(\"Enter a positive number\")  \n",
        "else:  \n",
        "   sum = 0  \n",
        "   # use while loop to iterate un till zero  \n",
        "   while(num > 0):  \n",
        "       sum += num  \n",
        "       num -= 1  \n",
        "   print(\"The sum is\",sum)  "
      ],
      "execution_count": null,
      "outputs": [
        {
          "output_type": "stream",
          "text": [
            "Enter a number: 4\n",
            "The sum is 10\n"
          ],
          "name": "stdout"
        }
      ]
    },
    {
      "cell_type": "code",
      "metadata": {
        "colab": {
          "base_uri": "https://localhost:8080/"
        },
        "id": "egsXsYZ3NcVK",
        "outputId": "07267b25-a381-4726-e295-933b90739bb0"
      },
      "source": [
        "#Multiplication table \n",
        "\n",
        "num = int(input(\" Enter the number : \"))    \n",
        "\n",
        "# using for loop to iterate multiplication 10 times     \n",
        "print(\"Multiplication Table of : \")  \n",
        "for i in range(1,11):    \n",
        "   print(num,'x',i,'=',num*i)  "
      ],
      "execution_count": null,
      "outputs": [
        {
          "output_type": "stream",
          "text": [
            " Enter the number : 2\n",
            "Multiplication Table of : \n",
            "2 x 1 = 2\n",
            "2 x 2 = 4\n",
            "2 x 3 = 6\n",
            "2 x 4 = 8\n",
            "2 x 5 = 10\n",
            "2 x 6 = 12\n",
            "2 x 7 = 14\n",
            "2 x 8 = 16\n",
            "2 x 9 = 18\n",
            "2 x 10 = 20\n"
          ],
          "name": "stdout"
        }
      ]
    },
    {
      "cell_type": "code",
      "metadata": {
        "colab": {
          "base_uri": "https://localhost:8080/"
        },
        "id": "pZEWQvLpNcYW",
        "outputId": "1c7c6919-20f2-4313-edaa-287f44029d61"
      },
      "source": [
        "#Prime number program\n",
        "\n",
        "num = int(input(\"Enter a number: \"))  \n",
        "  \n",
        "if num > 1:  \n",
        "   for i in range(2,num):  \n",
        "       if (num % i) == 0:  \n",
        "           print(num,\"is not a prime number\")  \n",
        "           print(i,\"times\",num//i,\"is\",num)  \n",
        "           break  \n",
        "   else:  \n",
        "       print(num,\"is a prime number\")  \n",
        "         \n",
        "else:  \n",
        "   print(num,\"is not a prime number\")  "
      ],
      "execution_count": null,
      "outputs": [
        {
          "output_type": "stream",
          "text": [
            "Enter a number: 3\n",
            "3 is a prime number\n"
          ],
          "name": "stdout"
        }
      ]
    },
    {
      "cell_type": "code",
      "metadata": {
        "colab": {
          "base_uri": "https://localhost:8080/"
        },
        "id": "PYPrs2LbR-OA",
        "outputId": "c8909f3a-09b7-45e9-d830-2721b0503a18"
      },
      "source": [
        "#Python Program to Check if a Number is Odd or Even\n",
        "\n",
        "num = int(input(\"Enter a number: \"))  \n",
        "if (num % 2) == 0:  \n",
        "   print(\"{0} is Even number\".format(num))  \n",
        "else:  \n",
        "   print(\"{0} is Odd number\".format(num))  "
      ],
      "execution_count": null,
      "outputs": [
        {
          "output_type": "stream",
          "text": [
            "Enter a number: 999\n",
            "999 is Odd number\n"
          ],
          "name": "stdout"
        }
      ]
    },
    {
      "cell_type": "code",
      "metadata": {
        "colab": {
          "base_uri": "https://localhost:8080/"
        },
        "id": "gmovvkELR-W-",
        "outputId": "a5c252d4-3db8-4a92-826e-783999038a16"
      },
      "source": [
        "#To Print the Hello Woorld\n",
        "\n",
        "print ('Hello World')  "
      ],
      "execution_count": null,
      "outputs": [
        {
          "output_type": "stream",
          "text": [
            "Hello World\n"
          ],
          "name": "stdout"
        }
      ]
    },
    {
      "cell_type": "code",
      "metadata": {
        "colab": {
          "base_uri": "https://localhost:8080/"
        },
        "id": "FUQfqqdZR-cI",
        "outputId": "85a42742-ce56-4336-bb0b-feac6718e415"
      },
      "source": [
        "#Python program to do arithmetical operations\n",
        "# Store input numbers:  \n",
        "\n",
        "num1 = input('Enter first number: ')  \n",
        "num2 = input('Enter second number: ')  \n",
        "  \n",
        "# Add two numbers  \n",
        "sum = float(num1) + float(num2)  \n",
        "\n",
        "# Subtract two numbers  \n",
        "min = float(num1) - float(num2)  \n",
        "\n",
        "# Multiply two numbers  \n",
        "mul = float(num1) * float(num2)  \n",
        "\n",
        "#Divide two numbers  \n",
        "div = float(num1) / float(num2)  \n",
        "\n",
        "# Display the sum  \n",
        "print('The sum of {0} and {1} is {2}'.format(num1, num2, sum))  \n",
        "  \n",
        "# Display the subtraction  \n",
        "print('The subtraction of {0} and {1} is {2}'.format(num1, num2, min))  \n",
        "\n",
        "# Display the multiplication  \n",
        "print('The multiplication of {0} and {1} is {2}'.format(num1, num2, mul))  \n",
        "\n",
        "# Display the division  \n",
        "print('The division of {0} and {1} is {2}'.format(num1, num2, div)) "
      ],
      "execution_count": null,
      "outputs": [
        {
          "output_type": "stream",
          "text": [
            "Enter first number: 43\n",
            "Enter second number: 66\n",
            "The sum of 43 and 66 is 109.0\n",
            "The subtraction of 43 and 66 is -23.0\n",
            "The multiplication of 43 and 66 is 2838.0\n",
            "The division of 43 and 66 is 0.6515151515151515\n"
          ],
          "name": "stdout"
        }
      ]
    },
    {
      "cell_type": "code",
      "metadata": {
        "id": "pU7cxgzYR-fh"
      },
      "source": [
        ""
      ],
      "execution_count": null,
      "outputs": []
    },
    {
      "cell_type": "code",
      "metadata": {
        "id": "SXuuPGJufmOI"
      },
      "source": [
        ""
      ],
      "execution_count": null,
      "outputs": []
    },
    {
      "cell_type": "code",
      "metadata": {
        "id": "8RZm-bUffmZj"
      },
      "source": [
        ""
      ],
      "execution_count": null,
      "outputs": []
    },
    {
      "cell_type": "code",
      "metadata": {
        "id": "THNdYFW_fmjE"
      },
      "source": [
        ""
      ],
      "execution_count": null,
      "outputs": []
    },
    {
      "cell_type": "code",
      "metadata": {
        "id": "TVxQ9VP9fmtb"
      },
      "source": [
        ""
      ],
      "execution_count": null,
      "outputs": []
    },
    {
      "cell_type": "code",
      "metadata": {
        "id": "xFk1b1HdNcdu"
      },
      "source": [
        ""
      ],
      "execution_count": null,
      "outputs": []
    },
    {
      "cell_type": "code",
      "metadata": {
        "id": "x1YQhSKzNxjy"
      },
      "source": [
        ""
      ],
      "execution_count": null,
      "outputs": []
    },
    {
      "cell_type": "code",
      "metadata": {
        "id": "Dq7YvQb2NxxP"
      },
      "source": [
        ""
      ],
      "execution_count": null,
      "outputs": []
    },
    {
      "cell_type": "code",
      "metadata": {
        "id": "ykKR2MpFNx-F"
      },
      "source": [
        ""
      ],
      "execution_count": null,
      "outputs": []
    },
    {
      "cell_type": "code",
      "metadata": {
        "id": "zN9cDQLSNyLd"
      },
      "source": [
        ""
      ],
      "execution_count": null,
      "outputs": []
    },
    {
      "cell_type": "code",
      "metadata": {
        "id": "zTfvnbTqNyYK"
      },
      "source": [
        ""
      ],
      "execution_count": null,
      "outputs": []
    },
    {
      "cell_type": "code",
      "metadata": {
        "id": "mPV5Sci8Nyk2"
      },
      "source": [
        ""
      ],
      "execution_count": null,
      "outputs": []
    }
  ]
}